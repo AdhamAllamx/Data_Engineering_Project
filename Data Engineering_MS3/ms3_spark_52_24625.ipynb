{
 "cells": [
  {
   "cell_type": "markdown",
   "metadata": {},
   "source": [
    "# Milestone 3 - Spark"
   ]
  },
  {
   "cell_type": "markdown",
   "metadata": {},
   "source": [
    "### Importing libraries and creation of SparkSession"
   ]
  },
  {
   "cell_type": "code",
   "execution_count": 1,
   "metadata": {},
   "outputs": [],
   "source": [
    "from pyspark.sql import SparkSession, Row,Window,functions as fn\n",
    "import os\n",
    "import psutil\n",
    "import shutil\n",
    "from pyspark.sql.functions import to_date\n",
    "from pyspark.ml.feature import StringIndexer, OneHotEncoder\n",
    "from pyspark.sql.types import StructType, StructField, StringType\n",
    "from pyspark.ml.functions import vector_to_array\n",
    "\n"
   ]
  },
  {
   "cell_type": "code",
   "execution_count": 2,
   "metadata": {},
   "outputs": [],
   "source": [
    "spark = SparkSession.builder.appName(\"MS3_Spark_52_24625\").config(\"spark.jars\", \"/opt/spark/jars/postgresql-42.7.4.jar\") \\\n",
    "    .getOrCreate()\n",
    "sc = spark.sparkContext"
   ]
  },
  {
   "cell_type": "markdown",
   "metadata": {},
   "source": [
    "### Part 1: Loading the dataset"
   ]
  },
  {
   "cell_type": "markdown",
   "metadata": {},
   "source": [
    "### 1. Load the dataset "
   ]
  },
  {
   "cell_type": "code",
   "execution_count": 3,
   "metadata": {},
   "outputs": [],
   "source": [
    "fintech_df = spark.read.parquet('/data/fintech_data_2_52_24625.parquet')"
   ]
  },
  {
   "cell_type": "markdown",
   "metadata": {},
   "source": [
    "### 2. Preview first 20 rows"
   ]
  },
  {
   "cell_type": "code",
   "execution_count": 4,
   "metadata": {},
   "outputs": [
    {
     "name": "stdout",
     "output_type": "stream",
     "text": [
      "+--------------------+--------------------+----------+--------------+----------+----------------+-------------------+--------+----------+-----------+-----------+-------+-----------+-----------+-----+-------------+----------+--------+-----+----------------+----------+----------+------------------+--------------------+\n",
      "|         Customer Id|           Emp Title|Emp Length|Home Ownership|Annual Inc|Annual Inc Joint|Verification Status|Zip Code|Addr State|Avg Cur Bal|Tot Cur Bal|Loan Id|Loan Status|Loan Amount|State|Funded Amount|      Term|Int Rate|Grade|      Issue Date|Pymnt Plan|      Type|           Purpose|         Description|\n",
      "+--------------------+--------------------+----------+--------------+----------+----------------+-------------------+--------+----------+-----------+-----------+-------+-----------+-----------+-----+-------------+----------+--------+-----+----------------+----------+----------+------------------+--------------------+\n",
      "|YidceGQxXHg4ZlwnX...|    Registered Nurse|   8 years|          RENT|   85000.0|            NULL|       Not Verified|   891xx|        NV|     4336.0|    60710.0| 193327| Fully Paid|    20000.0|   NV|      20000.0| 36 months|  0.1249|    7|   14 March 2014|     false|INDIVIDUAL|       credit_card|Credit card refin...|\n",
      "|YidPXHg4YSlJXHgwM...|Financial Readine...| 10+ years|      MORTGAGE|   98000.0|            NULL|           Verified|   735xx|        OK|    27707.0|   304779.0| 242513|    Current|    30000.0|   OK|      30000.0| 36 months|  0.1531|   11|   16 April 2016|     false|INDIVIDUAL|debt_consolidation|  Debt consolidation|\n",
      "|YidceGU2XHhiZVx4M...|          Sanitation|   3 years|           OWN|   45000.0|            NULL|       Not Verified|   970xx|        OR|     4194.0|    29363.0|  54921| Fully Paid|     7000.0|   OR|       7000.0| 36 months|  0.1416|   15|   14 March 2014|     false|INDIVIDUAL|       credit_card|Credit card refin...|\n",
      "|YidceGZkXHhkYlx4Y...|       Grant writer |   4 years|          RENT|   52000.0|            NULL|    Source Verified|   954xx|        CA|     1380.0|    22076.0| 121567|    Current|    12000.0|   CA|      12000.0| 36 months|  0.1261|   13|   18 March 2018|     false|Individual|debt_consolidation|  Debt consolidation|\n",
      "|YidceGQxXHhlN1x4Y...|       Asst. Manager|   2 years|          RENT|   34000.0|            NULL|           Verified|   234xx|        VA|     2642.0|    23782.0|  80488| Fully Paid|     9600.0|   VA|       9600.0| 36 months|  0.1799|   20|   17 March 2017|     false|Individual|debt_consolidation|  Debt consolidation|\n",
      "|YidceDE2fVx4YjhQX...|Sr. Marketing Log...| 10+ years|          RENT|   89000.0|            NULL|    Source Verified|   945xx|        CA|     5550.0|    49954.0| 164371|    Current|    16000.0|   CA|      16000.0| 36 months|    NULL|    6|16 February 2016|     false|INDIVIDUAL|             other|               Other|\n",
      "|YidceDgwXHgxMlx4Y...|               Owner| 10+ years|      MORTGAGE|  100000.0|            NULL|       Not Verified|   776xx|        TX|    12654.0|    88577.0| 266598|    Current|    40000.0|   TX|      40000.0| 36 months|  0.1056|    7|    18 June 2018|     false|Individual|  home_improvement|    Home improvement|\n",
      "|YidceDlkVlx4ZmJce...|     finance manager|   8 years|      MORTGAGE|  225000.0|            NULL|    Source Verified|   027xx|        MA|    22084.0|   419588.0| 205306| Fully Paid|    21000.0|   MA|      21000.0| 36 months|  0.1499|   15|17 February 2017|     false|Individual|debt_consolidation|  Debt consolidation|\n",
      "|YidceDE5c1RceGM5O...|                NULL|      NULL|           OWN|   80000.0|            NULL|       Not Verified|   604xx|        IL|     3061.0|    30605.0|  45800| Fully Paid|     6000.0|   IL|       6000.0| 36 months|  0.1612|   11|    19 June 2019|     false|Individual|             house|         Home buying|\n",
      "|YiciXHhlZjV8elx4M...|     Diesel mechanic|   9 years|      MORTGAGE|   70000.0|            NULL|           Verified|   117xx|        NY|    12829.0|   230913.0| 228849|Charged Off|    25000.0|   NY|      25000.0| 60 months|  0.1714|   20|14 November 2014|     false|INDIVIDUAL|debt_consolidation|  Debt consolidation|\n",
      "|YidceDAzXHg5ZV9ce...|      Store Director|   2 years|      MORTGAGE|  120000.0|            NULL|    Source Verified|   121xx|        NY|    44481.0|   311365.0| 241002|    Current|    30000.0|   NY|      30000.0| 36 months|  0.0839|    9|16 February 2016|     false|INDIVIDUAL|debt_consolidation|  Debt consolidation|\n",
      "|YidceDdmUVx4ZTZce...|         Underwriter|   3 years|          RENT|  100000.0|            NULL|    Source Verified|   212xx|        MD|     2167.0|    30338.0| 120768|    Current|    12000.0|   MD|      12000.0| 36 months|  0.1149|   10| 16 October 2016|     false|INDIVIDUAL|debt_consolidation|  Debt consolidation|\n",
      "|YidzTU5ceGIwXHIwX...|Regional Director...| 10+ years|      MORTGAGE|   85000.0|            NULL|    Source Verified|   554xx|        MN|    16968.0|   254520.0| 227077|    Current|    25000.0|   MN|      25000.0| 60 months|  0.1167|    7| 14 October 2014|     false|INDIVIDUAL|debt_consolidation|  Debt consolidation|\n",
      "|YicsY1hceGFhelx4Z...|Senior Vice Presi...|   6 years|      MORTGAGE|  210000.0|            NULL|           Verified|   797xx|        TX|    26959.0|   296554.0| 199586|    Current|    20000.0|   TX|      20000.0| 60 months|  0.1505|   12|    17 July 2017|     false|Individual|debt_consolidation|  Debt consolidation|\n",
      "|YidceGQxXHg5MVx4O...|          Bookkeeper|   9 years|          RENT|   52000.0|            NULL|       Not Verified|   917xx|        CA|     4610.0|    46096.0| 176588| Fully Paid|    18000.0|   CA|      18000.0| 36 months|  0.0662|    1|14 February 2014|     false|INDIVIDUAL|       credit_card|Credit card refin...|\n",
      "|YidceGNiXHhhNmstX...|           President|   8 years|      MORTGAGE|  150000.0|            NULL|       Not Verified|   334xx|        FL|    30944.0|   464157.0| 222899|    Current|    25000.0|   FL|      25000.0| 36 months|  0.0699|    3|    16 July 2016|     false|INDIVIDUAL|debt_consolidation|  Debt consolidation|\n",
      "|YiJceGIwXHgxY21iX...|                NULL|  < 1 year|      MORTGAGE|  120000.0|            NULL|    Source Verified|   285xx|        NC|    24424.0|   268665.0|  46583|    Current|     6000.0|   NC|       6000.0| 36 months|     0.2|   16|   19 April 2019|     false|Individual|           medical|    Medical expenses|\n",
      "|YiJceDllXHhkZGd0X...| Immigration Officer| 10+ years|      MORTGAGE|   98000.0|            NULL|       Not Verified|   064xx|        CT|    18478.0|   739116.0| 156465| Fully Paid|    15000.0|   CT|      15000.0| 60 months|   0.139|   14|     19 May 2019|     false|Individual|  home_improvement|    Home improvement|\n",
      "|YidcXFx4ZDdceDg0X...|Quality Control-F...|    1 year|      MORTGAGE|   85000.0|            NULL|    Source Verified|   461xx|        IN|    26613.0|   186292.0| 145280|    Current|    15000.0|   IN|      15000.0| 36 months|  0.1894|   16| 18 October 2018|     false|Individual|debt_consolidation|  Debt consolidation|\n",
      "|YidceDhmXHhjOFYiX...|            rewinder| 10+ years|      MORTGAGE|   65000.0|            NULL|       Not Verified|   647xx|        MO|    10533.0|   157991.0| 162084|    Current|    16000.0|   MO|      16000.0| 36 months|  0.1398|   12| 14 October 2014|     false|INDIVIDUAL|debt_consolidation|  Debt consolidation|\n",
      "+--------------------+--------------------+----------+--------------+----------+----------------+-------------------+--------+----------+-----------+-----------+-------+-----------+-----------+-----+-------------+----------+--------+-----+----------------+----------+----------+------------------+--------------------+\n",
      "only showing top 20 rows\n",
      "\n"
     ]
    }
   ],
   "source": [
    "fintech_df.show(20)"
   ]
  },
  {
   "cell_type": "code",
   "execution_count": 5,
   "metadata": {},
   "outputs": [
    {
     "name": "stdout",
     "output_type": "stream",
     "text": [
      "root\n",
      " |-- Customer Id: string (nullable = true)\n",
      " |-- Emp Title: string (nullable = true)\n",
      " |-- Emp Length: string (nullable = true)\n",
      " |-- Home Ownership: string (nullable = true)\n",
      " |-- Annual Inc: double (nullable = true)\n",
      " |-- Annual Inc Joint: double (nullable = true)\n",
      " |-- Verification Status: string (nullable = true)\n",
      " |-- Zip Code: string (nullable = true)\n",
      " |-- Addr State: string (nullable = true)\n",
      " |-- Avg Cur Bal: double (nullable = true)\n",
      " |-- Tot Cur Bal: double (nullable = true)\n",
      " |-- Loan Id: long (nullable = true)\n",
      " |-- Loan Status: string (nullable = true)\n",
      " |-- Loan Amount: double (nullable = true)\n",
      " |-- State: string (nullable = true)\n",
      " |-- Funded Amount: double (nullable = true)\n",
      " |-- Term: string (nullable = true)\n",
      " |-- Int Rate: double (nullable = true)\n",
      " |-- Grade: long (nullable = true)\n",
      " |-- Issue Date: string (nullable = true)\n",
      " |-- Pymnt Plan: boolean (nullable = true)\n",
      " |-- Type: string (nullable = true)\n",
      " |-- Purpose: string (nullable = true)\n",
      " |-- Description: string (nullable = true)\n",
      "\n"
     ]
    }
   ],
   "source": [
    "fintech_df.printSchema()"
   ]
  },
  {
   "cell_type": "code",
   "execution_count": 6,
   "metadata": {},
   "outputs": [
    {
     "name": "stdout",
     "output_type": "stream",
     "text": [
      "-RECORD 0-----------------------------------\n",
      " Customer Id         | YidceGQxXHg4ZlwnX... \n",
      " Emp Title           | Registered Nurse     \n",
      " Emp Length          | 8 years              \n",
      " Home Ownership      | RENT                 \n",
      " Annual Inc          | 85000.0              \n",
      " Annual Inc Joint    | NULL                 \n",
      " Verification Status | Not Verified         \n",
      " Zip Code            | 891xx                \n",
      " Addr State          | NV                   \n",
      " Avg Cur Bal         | 4336.0               \n",
      " Tot Cur Bal         | 60710.0              \n",
      " Loan Id             | 193327               \n",
      " Loan Status         | Fully Paid           \n",
      " Loan Amount         | 20000.0              \n",
      " State               | NV                   \n",
      " Funded Amount       | 20000.0              \n",
      " Term                |  36 months           \n",
      " Int Rate            | 0.1249               \n",
      " Grade               | 7                    \n",
      " Issue Date          | 14 March 2014        \n",
      " Pymnt Plan          | false                \n",
      " Type                | INDIVIDUAL           \n",
      " Purpose             | credit_card          \n",
      " Description         | Credit card refin... \n",
      "-RECORD 1-----------------------------------\n",
      " Customer Id         | YidPXHg4YSlJXHgwM... \n",
      " Emp Title           | Financial Readine... \n",
      " Emp Length          | 10+ years            \n",
      " Home Ownership      | MORTGAGE             \n",
      " Annual Inc          | 98000.0              \n",
      " Annual Inc Joint    | NULL                 \n",
      " Verification Status | Verified             \n",
      " Zip Code            | 735xx                \n",
      " Addr State          | OK                   \n",
      " Avg Cur Bal         | 27707.0              \n",
      " Tot Cur Bal         | 304779.0             \n",
      " Loan Id             | 242513               \n",
      " Loan Status         | Current              \n",
      " Loan Amount         | 30000.0              \n",
      " State               | OK                   \n",
      " Funded Amount       | 30000.0              \n",
      " Term                |  36 months           \n",
      " Int Rate            | 0.1531               \n",
      " Grade               | 11                   \n",
      " Issue Date          | 16 April 2016        \n",
      " Pymnt Plan          | false                \n",
      " Type                | INDIVIDUAL           \n",
      " Purpose             | debt_consolidation   \n",
      " Description         | Debt consolidation   \n",
      "-RECORD 2-----------------------------------\n",
      " Customer Id         | YidceGU2XHhiZVx4M... \n",
      " Emp Title           | Sanitation           \n",
      " Emp Length          | 3 years              \n",
      " Home Ownership      | OWN                  \n",
      " Annual Inc          | 45000.0              \n",
      " Annual Inc Joint    | NULL                 \n",
      " Verification Status | Not Verified         \n",
      " Zip Code            | 970xx                \n",
      " Addr State          | OR                   \n",
      " Avg Cur Bal         | 4194.0               \n",
      " Tot Cur Bal         | 29363.0              \n",
      " Loan Id             | 54921                \n",
      " Loan Status         | Fully Paid           \n",
      " Loan Amount         | 7000.0               \n",
      " State               | OR                   \n",
      " Funded Amount       | 7000.0               \n",
      " Term                |  36 months           \n",
      " Int Rate            | 0.1416               \n",
      " Grade               | 15                   \n",
      " Issue Date          | 14 March 2014        \n",
      " Pymnt Plan          | false                \n",
      " Type                | INDIVIDUAL           \n",
      " Purpose             | credit_card          \n",
      " Description         | Credit card refin... \n",
      "-RECORD 3-----------------------------------\n",
      " Customer Id         | YidceGZkXHhkYlx4Y... \n",
      " Emp Title           | Grant writer         \n",
      " Emp Length          | 4 years              \n",
      " Home Ownership      | RENT                 \n",
      " Annual Inc          | 52000.0              \n",
      " Annual Inc Joint    | NULL                 \n",
      " Verification Status | Source Verified      \n",
      " Zip Code            | 954xx                \n",
      " Addr State          | CA                   \n",
      " Avg Cur Bal         | 1380.0               \n",
      " Tot Cur Bal         | 22076.0              \n",
      " Loan Id             | 121567               \n",
      " Loan Status         | Current              \n",
      " Loan Amount         | 12000.0              \n",
      " State               | CA                   \n",
      " Funded Amount       | 12000.0              \n",
      " Term                |  36 months           \n",
      " Int Rate            | 0.1261               \n",
      " Grade               | 13                   \n",
      " Issue Date          | 18 March 2018        \n",
      " Pymnt Plan          | false                \n",
      " Type                | Individual           \n",
      " Purpose             | debt_consolidation   \n",
      " Description         | Debt consolidation   \n",
      "-RECORD 4-----------------------------------\n",
      " Customer Id         | YidceGQxXHhlN1x4Y... \n",
      " Emp Title           | Asst. Manager        \n",
      " Emp Length          | 2 years              \n",
      " Home Ownership      | RENT                 \n",
      " Annual Inc          | 34000.0              \n",
      " Annual Inc Joint    | NULL                 \n",
      " Verification Status | Verified             \n",
      " Zip Code            | 234xx                \n",
      " Addr State          | VA                   \n",
      " Avg Cur Bal         | 2642.0               \n",
      " Tot Cur Bal         | 23782.0              \n",
      " Loan Id             | 80488                \n",
      " Loan Status         | Fully Paid           \n",
      " Loan Amount         | 9600.0               \n",
      " State               | VA                   \n",
      " Funded Amount       | 9600.0               \n",
      " Term                |  36 months           \n",
      " Int Rate            | 0.1799               \n",
      " Grade               | 20                   \n",
      " Issue Date          | 17 March 2017        \n",
      " Pymnt Plan          | false                \n",
      " Type                | Individual           \n",
      " Purpose             | debt_consolidation   \n",
      " Description         | Debt consolidation   \n",
      "only showing top 5 rows\n",
      "\n"
     ]
    }
   ],
   "source": [
    "fintech_df.show(vertical=True, n=5)"
   ]
  },
  {
   "cell_type": "markdown",
   "metadata": {},
   "source": [
    "3. How many partitions is this dataframe split into?"
   ]
  },
  {
   "cell_type": "code",
   "execution_count": 7,
   "metadata": {},
   "outputs": [
    {
     "name": "stdout",
     "output_type": "stream",
     "text": [
      "Number of partitions: 1\n"
     ]
    }
   ],
   "source": [
    "print(f\"Number of partitions: {fintech_df.rdd.getNumPartitions()}\")\n"
   ]
  },
  {
   "cell_type": "markdown",
   "metadata": {},
   "source": [
    "4. Change partitions to be equal to the number of your logical cores"
   ]
  },
  {
   "cell_type": "code",
   "execution_count": 8,
   "metadata": {},
   "outputs": [
    {
     "name": "stdout",
     "output_type": "stream",
     "text": [
      "Number of CPU cores: 12\n"
     ]
    }
   ],
   "source": [
    "num_cores = os.cpu_count()\n",
    "print(f\"Number of CPU cores: {num_cores}\")"
   ]
  },
  {
   "cell_type": "code",
   "execution_count": 9,
   "metadata": {},
   "outputs": [
    {
     "name": "stdout",
     "output_type": "stream",
     "text": [
      "Logical cores: 12\n",
      "Physical cores: 6\n"
     ]
    }
   ],
   "source": [
    "logical_cores = psutil.cpu_count(logical=True) \n",
    "physical_cores = psutil.cpu_count(logical=False)\n",
    "\n",
    "print(f\"Logical cores: {logical_cores}\")\n",
    "print(f\"Physical cores: {physical_cores}\")"
   ]
  },
  {
   "cell_type": "code",
   "execution_count": 10,
   "metadata": {},
   "outputs": [],
   "source": [
    "fintech_df = fintech_df.repartition(12)"
   ]
  },
  {
   "cell_type": "code",
   "execution_count": 11,
   "metadata": {},
   "outputs": [
    {
     "name": "stdout",
     "output_type": "stream",
     "text": [
      "New number of partitions: 12\n"
     ]
    }
   ],
   "source": [
    "print(f\"New number of partitions: {fintech_df.rdd.getNumPartitions()}\")\n"
   ]
  },
  {
   "cell_type": "markdown",
   "metadata": {},
   "source": [
    "### Part 2: Cleaning"
   ]
  },
  {
   "cell_type": "markdown",
   "metadata": {},
   "source": [
    "1. Rename all columns (replacing a space with an underscore, and making it\n",
    "lowercase)"
   ]
  },
  {
   "cell_type": "code",
   "execution_count": 12,
   "metadata": {},
   "outputs": [],
   "source": [
    "renamed_columns = [column.replace(\" \",\"_\").lower() for column in fintech_df.columns]\n",
    "fintech_df = fintech_df.toDF(*renamed_columns)"
   ]
  },
  {
   "cell_type": "code",
   "execution_count": 13,
   "metadata": {},
   "outputs": [],
   "source": [
    "def clean_and_replace_inconsistent_values_type_column(df):\n",
    "\n",
    "    df = df.withColumn('type',fn.when(fn.col('type').isNotNull(), fn.trim(fn.lower(fn.regexp_replace(fn.col('type'),' ', '_')))).otherwise(fn.col('type')))\n",
    "    replacements = {'joint_app': 'joint'}\n",
    "    for original, new_value in replacements.items():\n",
    "        df = df.withColumn( 'type', fn.when(fn.col('type') == original, new_value).otherwise(fn.col('type'))  )\n",
    "    \n",
    "    return df"
   ]
  },
  {
   "cell_type": "code",
   "execution_count": 14,
   "metadata": {},
   "outputs": [],
   "source": [
    "fintech_df = clean_and_replace_inconsistent_values_type_column(fintech_df)"
   ]
  },
  {
   "cell_type": "code",
   "execution_count": 15,
   "metadata": {},
   "outputs": [
    {
     "name": "stdout",
     "output_type": "stream",
     "text": [
      "+--------------------+--------------------+----------+--------------+----------+----------------+-------------------+--------+----------+-----------+-----------+-------+-----------+-----------+-----+-------------+----------+--------+-----+---------------+----------+----------+------------------+------------------+\n",
      "|         customer_id|           emp_title|emp_length|home_ownership|annual_inc|annual_inc_joint|verification_status|zip_code|addr_state|avg_cur_bal|tot_cur_bal|loan_id|loan_status|loan_amount|state|funded_amount|      term|int_rate|grade|     issue_date|pymnt_plan|      type|           purpose|       description|\n",
      "+--------------------+--------------------+----------+--------------+----------+----------------+-------------------+--------+----------+-----------+-----------+-------+-----------+-----------+-----+-------------+----------+--------+-----+---------------+----------+----------+------------------+------------------+\n",
      "|YidceGMwXHhlOFx4Y...|                NULL|      NULL|      MORTGAGE|   11064.0|        305009.0|           Verified|   070xx|        NJ|    22952.0|   481989.0| 266839|    Current|    40000.0|   NJ|      40000.0| 36 months|   0.118|   10|19 January 2019|     false|     joint|debt_consolidation|Debt consolidation|\n",
      "|YidPKl9ceGVmXHhhM...|           detective| 10+ years|      MORTGAGE|  100000.0|            NULL|       Not Verified|   297xx|        SC|    23405.0|   234053.0| 235180|    Current|    28000.0|   SC|      28000.0| 36 months|  0.0735|    5|   17 July 2017|     false|individual|debt_consolidation|Debt consolidation|\n",
      "|YiJceDg0a1x4ODBWX...|Residential Couns...|  < 1 year|      MORTGAGE|   32000.0|            NULL|       Not Verified|   083xx|        NJ|     4823.0|    19293.0|  11405|    Current|     3000.0|   NJ|       3000.0| 36 months|  0.1504|   11|  18 April 2018|     false|individual|             other|             Other|\n",
      "|YiJyXHhiMlx4ZTZce...|respiratory thera...|   6 years|      MORTGAGE|   64000.0|            NULL|    Source Verified|   721xx|        AR|     9753.0|   195051.0| 113334| Fully Paid|    11400.0|   AR|      11400.0| 36 months|  0.1099|    8|  14 April 2014|     false|individual|debt_consolidation|Debt consolidation|\n",
      "|YicuXHg4ZVx4YWVce...|   Content Associate|   3 years|          RENT|   48000.0|            NULL|    Source Verified|   060xx|        CT|     2695.0|    37734.0| 163518|    Current|    16000.0|   CT|      16000.0| 36 months|  0.0849|    7|16 January 2016|     false|individual|       credit_card|              NULL|\n",
      "+--------------------+--------------------+----------+--------------+----------+----------------+-------------------+--------+----------+-----------+-----------+-------+-----------+-----------+-----+-------------+----------+--------+-----+---------------+----------+----------+------------------+------------------+\n",
      "only showing top 5 rows\n",
      "\n"
     ]
    }
   ],
   "source": [
    "fintech_df.show(5)"
   ]
  },
  {
   "cell_type": "code",
   "execution_count": 16,
   "metadata": {},
   "outputs": [
    {
     "name": "stdout",
     "output_type": "stream",
     "text": [
      "['customer_id', 'emp_title', 'emp_length', 'home_ownership', 'annual_inc', 'annual_inc_joint', 'verification_status', 'zip_code', 'addr_state', 'avg_cur_bal', 'tot_cur_bal', 'loan_id', 'loan_status', 'loan_amount', 'state', 'funded_amount', 'term', 'int_rate', 'grade', 'issue_date', 'pymnt_plan', 'type', 'purpose', 'description']\n"
     ]
    }
   ],
   "source": [
    "print(fintech_df.columns)"
   ]
  },
  {
   "cell_type": "markdown",
   "metadata": {},
   "source": [
    " 2. Detect missing"
   ]
  },
  {
   "cell_type": "markdown",
   "metadata": {},
   "source": [
    " Displaying missing percentages using DF :"
   ]
  },
  {
   "cell_type": "code",
   "execution_count": 17,
   "metadata": {},
   "outputs": [],
   "source": [
    "def calculate_missing_percentage_df(df):\n",
    "    total_rows = df.count()\n",
    "    missing_info = [Row(column_name=column,missing_percentage=(df.filter(df[column].isNull()).count()/total_rows)*100)for column in df.columns]\n",
    "    missing_info_df = spark.createDataFrame(missing_info)\n",
    "    missing_info_df = missing_info_df.withColumn(\"missing_percentage\",fn.concat(fn.format_number(\"missing_percentage\",6),fn.lit(\" %\")))\n",
    "    return missing_info_df"
   ]
  },
  {
   "cell_type": "code",
   "execution_count": 18,
   "metadata": {},
   "outputs": [],
   "source": [
    "missing_info_df = calculate_missing_percentage_df(fintech_df)\n"
   ]
  },
  {
   "cell_type": "code",
   "execution_count": 19,
   "metadata": {},
   "outputs": [
    {
     "name": "stdout",
     "output_type": "stream",
     "text": [
      "+-------------------+------------------+\n",
      "|        column_name|missing_percentage|\n",
      "+-------------------+------------------+\n",
      "|        customer_id|        0.000000 %|\n",
      "|          emp_title|        8.590455 %|\n",
      "|         emp_length|        6.799852 %|\n",
      "|     home_ownership|        0.000000 %|\n",
      "|         annual_inc|        0.000000 %|\n",
      "|   annual_inc_joint|       92.944876 %|\n",
      "|verification_status|        0.000000 %|\n",
      "|           zip_code|        0.000000 %|\n",
      "|         addr_state|        0.000000 %|\n",
      "|        avg_cur_bal|        0.000000 %|\n",
      "|        tot_cur_bal|        0.000000 %|\n",
      "|            loan_id|        0.000000 %|\n",
      "|        loan_status|        0.000000 %|\n",
      "|        loan_amount|        0.000000 %|\n",
      "|              state|        0.000000 %|\n",
      "|      funded_amount|        0.000000 %|\n",
      "|               term|        0.000000 %|\n",
      "|           int_rate|        4.402516 %|\n",
      "|              grade|        0.000000 %|\n",
      "|         issue_date|        0.000000 %|\n",
      "|         pymnt_plan|        0.000000 %|\n",
      "|               type|        0.000000 %|\n",
      "|            purpose|        0.000000 %|\n",
      "|        description|        0.891602 %|\n",
      "+-------------------+------------------+\n",
      "\n"
     ]
    }
   ],
   "source": [
    "missing_info_df.show(24)"
   ]
  },
  {
   "cell_type": "markdown",
   "metadata": {},
   "source": [
    "Displaying missing percentage using dict :"
   ]
  },
  {
   "cell_type": "code",
   "execution_count": 20,
   "metadata": {},
   "outputs": [],
   "source": [
    "def calculate_missing_percentage_dict (df):\n",
    "    total_rows = df.count()\n",
    "    missing_info = {}\n",
    "    for column in df.columns :\n",
    "        missing_count = df.filter(df[column].isNull()).count()\n",
    "        missing_percentage = (missing_count/total_rows)*100\n",
    "        missing_info[column] = missing_percentage\n",
    "    return missing_info\n"
   ]
  },
  {
   "cell_type": "code",
   "execution_count": 21,
   "metadata": {},
   "outputs": [],
   "source": [
    "missing_info_dict = calculate_missing_percentage_dict(fintech_df)"
   ]
  },
  {
   "cell_type": "code",
   "execution_count": 22,
   "metadata": {},
   "outputs": [
    {
     "name": "stdout",
     "output_type": "stream",
     "text": [
      "Missing info Dictionary :\n",
      "Column: customer_id,Missing Percentage:0.000000%\n",
      "Column: emp_title,Missing Percentage:8.590455%\n",
      "Column: emp_length,Missing Percentage:6.799852%\n",
      "Column: home_ownership,Missing Percentage:0.000000%\n",
      "Column: annual_inc,Missing Percentage:0.000000%\n",
      "Column: annual_inc_joint,Missing Percentage:92.944876%\n",
      "Column: verification_status,Missing Percentage:0.000000%\n",
      "Column: zip_code,Missing Percentage:0.000000%\n",
      "Column: addr_state,Missing Percentage:0.000000%\n",
      "Column: avg_cur_bal,Missing Percentage:0.000000%\n",
      "Column: tot_cur_bal,Missing Percentage:0.000000%\n",
      "Column: loan_id,Missing Percentage:0.000000%\n",
      "Column: loan_status,Missing Percentage:0.000000%\n",
      "Column: loan_amount,Missing Percentage:0.000000%\n",
      "Column: state,Missing Percentage:0.000000%\n",
      "Column: funded_amount,Missing Percentage:0.000000%\n",
      "Column: term,Missing Percentage:0.000000%\n",
      "Column: int_rate,Missing Percentage:4.402516%\n",
      "Column: grade,Missing Percentage:0.000000%\n",
      "Column: issue_date,Missing Percentage:0.000000%\n",
      "Column: pymnt_plan,Missing Percentage:0.000000%\n",
      "Column: type,Missing Percentage:0.000000%\n",
      "Column: purpose,Missing Percentage:0.000000%\n",
      "Column: description,Missing Percentage:0.891602%\n"
     ]
    }
   ],
   "source": [
    "print(\"Missing info Dictionary :\")\n",
    "for column,percentage in missing_info_dict.items():\n",
    "        print(f\"Column: {column},Missing Percentage:{percentage:.6f}%\")"
   ]
  },
  {
   "cell_type": "markdown",
   "metadata": {},
   "source": [
    " 3. Handle missing values"
   ]
  },
  {
   "cell_type": "markdown",
   "metadata": {},
   "source": [
    "3.1 For numerical features `annual_inc_joint ` & `int_rate`replace with 0"
   ]
  },
  {
   "cell_type": "code",
   "execution_count": 23,
   "metadata": {},
   "outputs": [],
   "source": [
    "def impute_numerical_with_zero(df, columns):\n",
    "    fill_values = {column: 0 for column in columns}\n",
    "    df=df.fillna(fill_values)\n",
    "    return df"
   ]
  },
  {
   "cell_type": "code",
   "execution_count": 24,
   "metadata": {},
   "outputs": [],
   "source": [
    "impute_numerical_features_cols = [\"annual_inc_joint\", \"int_rate\"]\n",
    "fintech_df = impute_numerical_with_zero(fintech_df,impute_numerical_features_cols)"
   ]
  },
  {
   "cell_type": "code",
   "execution_count": 25,
   "metadata": {},
   "outputs": [
    {
     "data": {
      "text/plain": [
       "0"
      ]
     },
     "execution_count": 25,
     "metadata": {},
     "output_type": "execute_result"
    }
   ],
   "source": [
    "fintech_df.filter(fintech_df.int_rate.isNull()).count()"
   ]
  },
  {
   "cell_type": "code",
   "execution_count": 26,
   "metadata": {},
   "outputs": [
    {
     "data": {
      "text/plain": [
       "0"
      ]
     },
     "execution_count": 26,
     "metadata": {},
     "output_type": "execute_result"
    }
   ],
   "source": [
    "fintech_df.filter(fintech_df.annual_inc_joint.isNull()).count()"
   ]
  },
  {
   "cell_type": "code",
   "execution_count": 27,
   "metadata": {},
   "outputs": [
    {
     "name": "stdout",
     "output_type": "stream",
     "text": [
      "+--------------------+--------------------+----------+--------------+----------+----------------+-------------------+--------+----------+-----------+-----------+-------+-----------+-----------+-----+-------------+----------+--------+-----+----------------+----------+----------+------------------+--------------------+\n",
      "|         customer_id|           emp_title|emp_length|home_ownership|annual_inc|annual_inc_joint|verification_status|zip_code|addr_state|avg_cur_bal|tot_cur_bal|loan_id|loan_status|loan_amount|state|funded_amount|      term|int_rate|grade|      issue_date|pymnt_plan|      type|           purpose|         description|\n",
      "+--------------------+--------------------+----------+--------------+----------+----------------+-------------------+--------+----------+-----------+-----------+-------+-----------+-----------+-----+-------------+----------+--------+-----+----------------+----------+----------+------------------+--------------------+\n",
      "|YidceGMwXHhlOFx4Y...|                NULL|      NULL|      MORTGAGE|   11064.0|        305009.0|           Verified|   070xx|        NJ|    22952.0|   481989.0| 266839|    Current|    40000.0|   NJ|      40000.0| 36 months|   0.118|   10| 19 January 2019|     false|     joint|debt_consolidation|  Debt consolidation|\n",
      "|YidPKl9ceGVmXHhhM...|           detective| 10+ years|      MORTGAGE|  100000.0|             0.0|       Not Verified|   297xx|        SC|    23405.0|   234053.0| 235180|    Current|    28000.0|   SC|      28000.0| 36 months|  0.0735|    5|    17 July 2017|     false|individual|debt_consolidation|  Debt consolidation|\n",
      "|YiJceDg0a1x4ODBWX...|Residential Couns...|  < 1 year|      MORTGAGE|   32000.0|             0.0|       Not Verified|   083xx|        NJ|     4823.0|    19293.0|  11405|    Current|     3000.0|   NJ|       3000.0| 36 months|  0.1504|   11|   18 April 2018|     false|individual|             other|               Other|\n",
      "|YiJyXHhiMlx4ZTZce...|respiratory thera...|   6 years|      MORTGAGE|   64000.0|             0.0|    Source Verified|   721xx|        AR|     9753.0|   195051.0| 113334| Fully Paid|    11400.0|   AR|      11400.0| 36 months|  0.1099|    8|   14 April 2014|     false|individual|debt_consolidation|  Debt consolidation|\n",
      "|YicuXHg4ZVx4YWVce...|   Content Associate|   3 years|          RENT|   48000.0|             0.0|    Source Verified|   060xx|        CT|     2695.0|    37734.0| 163518|    Current|    16000.0|   CT|      16000.0| 36 months|  0.0849|    7| 16 January 2016|     false|individual|       credit_card|                NULL|\n",
      "|YidEXHgxYVx4ZGRce...|    Staff Accountant|  < 1 year|          RENT|   58000.0|             0.0|       Not Verified|   852xx|        AZ|     6427.0|   154244.0| 167828|    Current|    16000.0|   AZ|      16000.0| 60 months|   0.143|   12|  19 August 2019|     false|individual|       credit_card|Credit card refin...|\n",
      "|YidceDAzXHg4M1x4Y...|       Sr Consultant|   5 years|          RENT|   90000.0|             0.0|       Not Verified|   919xx|        CA|     2474.0|    32157.0|  87226|    Current|    10000.0|   CA|      10000.0| 36 months|  0.0839|    1|  14 August 2014|     false|individual|             other|               Other|\n",
      "|YidceGY4L1o5K0Vce...|   Software Engineer|  < 1 year|          RENT|   98500.0|             0.0|           Verified|   201xx|        VA|     6557.0|    78688.0| 257458| Fully Paid|    35000.0|   VA|      35000.0| 36 months|  0.1825|   23|   15 March 2015|     false|individual|debt_consolidation|  Debt consolidation|\n",
      "|YidceGUxeDFceGJkX...|  Vendor Coordinator|   3 years|      MORTGAGE|   42000.0|        167000.0|    Source Verified|   834xx|        ID|     8035.0|   168742.0| 269824|    Current|    40000.0|   ID|      40000.0| 60 months|  0.1601|   15|     18 May 2018|     false|     joint|debt_consolidation|  Debt consolidation|\n",
      "|YiJ2XHhhZVx4MTAmX...|        Receptionist|   4 years|          RENT|   45000.0|             0.0|           Verified|   930xx|        CA|     1005.0|    16082.0|  55125|    Current|     7000.0|   CA|       7000.0| 36 months|  0.1505|   15|    17 July 2017|     false|individual|debt_consolidation|  Debt consolidation|\n",
      "|YidOXHhjYlx4ODZce...|        Trail Safety| 10+ years|          RENT|   33000.0|             0.0|       Not Verified|   814xx|        CO|     1263.0|     6316.0|  49327| Fully Paid|     6500.0|   CO|       6500.0| 36 months|  0.0532|    3| 15 October 2015|     false|individual|debt_consolidation|  Debt consolidation|\n",
      "|YidceDE4cFx4ZDhce...|fullfillment coor...| 10+ years|          RENT|   51000.0|             0.0|       Not Verified|   600xx|        IL|     5693.0|    17078.0|  14186| Fully Paid|     3500.0|   IL|       3500.0| 36 months|  0.1099|    6|     15 May 2015|     false|individual|debt_consolidation|  Debt consolidation|\n",
      "|YidceDA2XHhmNllce...|          Supervisor| 10+ years|      MORTGAGE|   85000.0|             0.0|       Not Verified|   755xx|        TX|    11730.0|   140765.0|  40674| Fully Paid|     6000.0|   TX|       6000.0| 36 months|  0.0799|    3|     17 May 2017|     false|individual|  home_improvement|    Home improvement|\n",
      "|YiJxMHJlXHg5OFx4Y...|      Quality Leader|   5 years|          RENT|   32000.0|             0.0|           Verified|   245xx|        VA|     2051.0|    38972.0| 112725|    Current|    11200.0|   VA|      11200.0| 60 months|  0.1561|   15|14 February 2014|     false|individual|debt_consolidation|  Debt consolidation|\n",
      "|YidceDlkXHhiYUNce...|Senior Relationsh...|  < 1 year|          RENT|   75000.0|             0.0|           Verified|   300xx|        GA|     2176.0|    17407.0| 167657|    Current|    16000.0|   GA|      16000.0| 60 months|  0.1399|   13|    16 July 2016|     false|individual|debt_consolidation|  Debt consolidation|\n",
      "|YidpXHhhNUBjKDtJe...|    Key Acct Manager|   9 years|      MORTGAGE|  110000.0|             0.0|       Not Verified|   681xx|        NE|    21694.0|   325408.0|  11851|    Current|     3000.0|   NE|       3000.0| 36 months|  0.1797|   18|18 December 2018|     false|individual|debt_consolidation|  Debt consolidation|\n",
      "|YidrXHhhMVtceGU4X...|Director of Human...|  < 1 year|          RENT|   85000.0|             0.0|       Not Verified|   940xx|        CA|     5426.0|    43409.0| 183565| Fully Paid|    19000.0|   CA|      19000.0| 36 months|  0.0789|    5|   15 April 2015|     false|individual|debt_consolidation|  Debt consolidation|\n",
      "|YidceDkyXHhkMlx4M...|               Owner| 10+ years|      MORTGAGE|   74000.0|             0.0|       Not Verified|   794xx|        TX|    13695.0|   164345.0|  84422|    Current|    10000.0|   TX|      10000.0| 36 months|  0.0699|    1| 16 January 2016|     false|individual|       credit_card|Credit card refin...|\n",
      "|YidceGFiPkZceGZmO...|                NULL|  < 1 year|      MORTGAGE|  120000.0|             0.0|       Not Verified|   945xx|        CA|     7125.0|    92623.0| 161915|    Current|    16000.0|   CA|      16000.0| 36 months|  0.0646|    5|    19 July 2019|     false|individual|       credit_card|Credit card refin...|\n",
      "|YidceGRmXHhlYksva...|       Project  Lead|   2 years|      MORTGAGE|   58000.0|             0.0|           Verified|   330xx|        FL|     4206.0|    46263.0| 153452| Fully Paid|    15000.0|   FL|      15000.0| 36 months|  0.1655|   18|     15 May 2015|     false|individual|debt_consolidation|  Debt consolidation|\n",
      "+--------------------+--------------------+----------+--------------+----------+----------------+-------------------+--------+----------+-----------+-----------+-------+-----------+-----------+-----+-------------+----------+--------+-----+----------------+----------+----------+------------------+--------------------+\n",
      "only showing top 20 rows\n",
      "\n"
     ]
    }
   ],
   "source": [
    "fintech_df.show()"
   ]
  },
  {
   "cell_type": "markdown",
   "metadata": {},
   "source": [
    " Checking on imputation for `annual_inc_joint` & `int_rate`"
   ]
  },
  {
   "cell_type": "code",
   "execution_count": 28,
   "metadata": {},
   "outputs": [
    {
     "name": "stdout",
     "output_type": "stream",
     "text": [
      "+-------------------+------------------+\n",
      "|        column_name|missing_percentage|\n",
      "+-------------------+------------------+\n",
      "|        customer_id|        0.000000 %|\n",
      "|          emp_title|        8.590455 %|\n",
      "|         emp_length|        6.799852 %|\n",
      "|     home_ownership|        0.000000 %|\n",
      "|         annual_inc|        0.000000 %|\n",
      "|   annual_inc_joint|        0.000000 %|\n",
      "|verification_status|        0.000000 %|\n",
      "|           zip_code|        0.000000 %|\n",
      "|         addr_state|        0.000000 %|\n",
      "|        avg_cur_bal|        0.000000 %|\n",
      "|        tot_cur_bal|        0.000000 %|\n",
      "|            loan_id|        0.000000 %|\n",
      "|        loan_status|        0.000000 %|\n",
      "|        loan_amount|        0.000000 %|\n",
      "|              state|        0.000000 %|\n",
      "|      funded_amount|        0.000000 %|\n",
      "|               term|        0.000000 %|\n",
      "|           int_rate|        0.000000 %|\n",
      "|              grade|        0.000000 %|\n",
      "|         issue_date|        0.000000 %|\n",
      "+-------------------+------------------+\n",
      "only showing top 20 rows\n",
      "\n"
     ]
    }
   ],
   "source": [
    "missing_info_df = calculate_missing_percentage_df(fintech_df)\n",
    "missing_info_df.show()"
   ]
  },
  {
   "cell_type": "markdown",
   "metadata": {},
   "source": [
    "3.2 For categorical/strings `emp_title`, `emp_length` & `description `replace with mode"
   ]
  },
  {
   "cell_type": "code",
   "execution_count": 29,
   "metadata": {},
   "outputs": [],
   "source": [
    "def impute_categorical_with_mode(df, column):\n",
    "    mode_df = df.filter(fn.col(column).isNotNull())\\\n",
    "                    .groupBy(fn.col(column)).count()\\\n",
    "                    .orderBy(fn.col('count').desc())\\\n",
    "                    .limit(1)\n",
    "    mode_value =mode_df.select(column).collect()[0][0]\n",
    "    df = df.fillna(value= mode_value,subset=[column])\n",
    "    return df"
   ]
  },
  {
   "cell_type": "code",
   "execution_count": 30,
   "metadata": {},
   "outputs": [],
   "source": [
    "impute_categorical_columns = [\"emp_title\",\"emp_length\",\"description\"]\n"
   ]
  },
  {
   "cell_type": "code",
   "execution_count": 31,
   "metadata": {},
   "outputs": [],
   "source": [
    "for col in impute_categorical_columns :\n",
    "    fintech_df = impute_categorical_with_mode(fintech_df,col)"
   ]
  },
  {
   "cell_type": "markdown",
   "metadata": {},
   "source": [
    " Checking on  missing after imputing with mode "
   ]
  },
  {
   "cell_type": "code",
   "execution_count": 32,
   "metadata": {},
   "outputs": [
    {
     "data": {
      "text/plain": [
       "0"
      ]
     },
     "execution_count": 32,
     "metadata": {},
     "output_type": "execute_result"
    }
   ],
   "source": [
    "fintech_df.filter(fintech_df.emp_length.isNull()).count()"
   ]
  },
  {
   "cell_type": "code",
   "execution_count": 33,
   "metadata": {},
   "outputs": [
    {
     "data": {
      "text/plain": [
       "0"
      ]
     },
     "execution_count": 33,
     "metadata": {},
     "output_type": "execute_result"
    }
   ],
   "source": [
    "fintech_df.filter(fintech_df.emp_title.isNull()).count()"
   ]
  },
  {
   "cell_type": "code",
   "execution_count": 34,
   "metadata": {},
   "outputs": [
    {
     "data": {
      "text/plain": [
       "0"
      ]
     },
     "execution_count": 34,
     "metadata": {},
     "output_type": "execute_result"
    }
   ],
   "source": [
    "fintech_df.filter(fintech_df.description.isNull()).count()"
   ]
  },
  {
   "cell_type": "code",
   "execution_count": 35,
   "metadata": {},
   "outputs": [],
   "source": [
    "missing_info_df = calculate_missing_percentage_df(fintech_df)"
   ]
  },
  {
   "cell_type": "markdown",
   "metadata": {},
   "source": [
    " 4. Check on missing values afterwards in the whole Dataframe"
   ]
  },
  {
   "cell_type": "code",
   "execution_count": 36,
   "metadata": {},
   "outputs": [
    {
     "name": "stdout",
     "output_type": "stream",
     "text": [
      "+-------------------+------------------+\n",
      "|        column_name|missing_percentage|\n",
      "+-------------------+------------------+\n",
      "|        customer_id|        0.000000 %|\n",
      "|          emp_title|        0.000000 %|\n",
      "|         emp_length|        0.000000 %|\n",
      "|     home_ownership|        0.000000 %|\n",
      "|         annual_inc|        0.000000 %|\n",
      "|   annual_inc_joint|        0.000000 %|\n",
      "|verification_status|        0.000000 %|\n",
      "|           zip_code|        0.000000 %|\n",
      "|         addr_state|        0.000000 %|\n",
      "|        avg_cur_bal|        0.000000 %|\n",
      "|        tot_cur_bal|        0.000000 %|\n",
      "|            loan_id|        0.000000 %|\n",
      "|        loan_status|        0.000000 %|\n",
      "|        loan_amount|        0.000000 %|\n",
      "|              state|        0.000000 %|\n",
      "|      funded_amount|        0.000000 %|\n",
      "|               term|        0.000000 %|\n",
      "|           int_rate|        0.000000 %|\n",
      "|              grade|        0.000000 %|\n",
      "|         issue_date|        0.000000 %|\n",
      "+-------------------+------------------+\n",
      "only showing top 20 rows\n",
      "\n"
     ]
    }
   ],
   "source": [
    "missing_info_df.show()"
   ]
  },
  {
   "cell_type": "markdown",
   "metadata": {},
   "source": [
    "### Part 3: Encoding"
   ]
  },
  {
   "cell_type": "code",
   "execution_count": 37,
   "metadata": {},
   "outputs": [],
   "source": [
    "lookup_table_schema = StructType([StructField(\"feature_name\", StringType(), True),\n",
    "                                  StructField(\"original_value\", StringType(), True),\n",
    "                                    StructField(\"encoded_value\", StringType(), True)])\n",
    "\n",
    "lookup_table_df = spark.createDataFrame([], schema=lookup_table_schema)"
   ]
  },
  {
   "cell_type": "code",
   "execution_count": 38,
   "metadata": {},
   "outputs": [],
   "source": [
    "def update_lookup_table(lookup_df, feature_name, mapping):\n",
    "    new_mappings = spark.createDataFrame(\n",
    "        [(feature_name, orig_val, enc_val) for orig_val, enc_val in mapping.items()],\n",
    "        schema=[\"feature_name\", \"original_value\", \"encoded_value\"]\n",
    "    )\n",
    "    return lookup_df.union(new_mappings)"
   ]
  },
  {
   "cell_type": "markdown",
   "metadata": {},
   "source": [
    "1. Emp Length: Change to numerical"
   ]
  },
  {
   "cell_type": "code",
   "execution_count": 39,
   "metadata": {},
   "outputs": [],
   "source": [
    "def convert_emp_length_numeric(df,column_name,lookup_table_df):\n",
    "    emp_length_mapping = {\n",
    "        \"< 1 year\": 0.5,\n",
    "        \"1 year\": 1.0,\n",
    "        \"2 years\": 2.0,\n",
    "        \"3 years\": 3.0,\n",
    "        \"4 years\": 4.0,\n",
    "        \"5 years\": 5.0,\n",
    "        \"6 years\": 6.0,\n",
    "        \"7 years\": 7.0,\n",
    "        \"8 years\": 8.0,\n",
    "        \"9 years\": 9.0,\n",
    "        \"10+ years\": 11.0,\n",
    "    }\n",
    "    lookup_table_df = update_lookup_table( lookup_table_df,column_name,emp_length_mapping)\n",
    "    df = df.withColumn(\"emp_length_numeric\",fn.when(fn.col(column_name)== \"< 1 year\", 0.5).when(fn.col(column_name)==\"1 year\", 1.0)\n",
    "        .when(fn.col(column_name)== \"2 years\",2.0).when(fn.col(column_name)==\"3 years\", 3.0)\n",
    "        .when(fn.col(column_name)== \"4 years\",4.0).when(fn.col(column_name)== \"5 years\", 5.0)\n",
    "        .when(fn.col(column_name)== \"6 years\",6.0).when(fn.col(column_name)==\"7 years\", 7.0)\n",
    "        .when(fn.col(column_name)== \"8 years\",8.0).when(fn.col(column_name)== \"9 years\", 9.0)\n",
    "        .when(fn.col(column_name)== \"10+ years\",11.0)\n",
    "    )\n",
    "\n",
    "    return df,lookup_table_df"
   ]
  },
  {
   "cell_type": "code",
   "execution_count": 40,
   "metadata": {},
   "outputs": [],
   "source": [
    "fintech_df,lookup_table_df= convert_emp_length_numeric(fintech_df,\"emp_length\",lookup_table_df)"
   ]
  },
  {
   "cell_type": "markdown",
   "metadata": {},
   "source": [
    "2. One-Hot Encoding for `home_ownership`, `verification_status`, `type`"
   ]
  },
  {
   "cell_type": "code",
   "execution_count": 41,
   "metadata": {},
   "outputs": [],
   "source": [
    "one_hot_encoding_cols = [\"home_ownership\", \"verification_status\", \"type\"]"
   ]
  },
  {
   "cell_type": "code",
   "execution_count": 42,
   "metadata": {},
   "outputs": [
    {
     "name": "stdout",
     "output_type": "stream",
     "text": [
      "+----------+\n",
      "|      type|\n",
      "+----------+\n",
      "|     joint|\n",
      "|direct_pay|\n",
      "|individual|\n",
      "+----------+\n",
      "\n"
     ]
    }
   ],
   "source": [
    "fintech_df.select(\"type\").distinct().show()"
   ]
  },
  {
   "cell_type": "code",
   "execution_count": 43,
   "metadata": {},
   "outputs": [
    {
     "name": "stdout",
     "output_type": "stream",
     "text": [
      "+-------------------+\n",
      "|verification_status|\n",
      "+-------------------+\n",
      "|           Verified|\n",
      "|    Source Verified|\n",
      "|       Not Verified|\n",
      "+-------------------+\n",
      "\n"
     ]
    }
   ],
   "source": [
    "fintech_df.select(\"verification_status\").distinct().show()"
   ]
  },
  {
   "cell_type": "code",
   "execution_count": 44,
   "metadata": {},
   "outputs": [
    {
     "name": "stdout",
     "output_type": "stream",
     "text": [
      "+--------------+\n",
      "|home_ownership|\n",
      "+--------------+\n",
      "|           OWN|\n",
      "|          RENT|\n",
      "|      MORTGAGE|\n",
      "|           ANY|\n",
      "|         OTHER|\n",
      "+--------------+\n",
      "\n"
     ]
    }
   ],
   "source": [
    "fintech_df.select(\"home_ownership\").distinct().show()\n"
   ]
  },
  {
   "cell_type": "code",
   "execution_count": 45,
   "metadata": {},
   "outputs": [],
   "source": [
    "def apply_one_hot_encoding(df,one_hot_encoding_cols,lookup_table):\n",
    "    for column_name in one_hot_encoding_cols:\n",
    "        indexer = StringIndexer(inputCol=column_name, outputCol=f\"{column_name}_index\")\n",
    "        indexer_model = indexer.fit(df)\n",
    "        df = indexer_model.transform(df)\n",
    "        index_to_value_mapping = {int(i):value for i, value in enumerate(indexer_model.labels)}\n",
    "        for value in index_to_value_mapping.values():\n",
    "            lookup_table = lookup_table.union(\n",
    "                spark.createDataFrame( [(column_name, value, f\"{column_name}_{value}(1_hot_enc_col)\")],schema=[\"feature_name\", \"original_value\", \"encoded_value\"]))\n",
    "        encoder = OneHotEncoder(inputCol=f\"{column_name}_index\", outputCol=f\"{column_name}_onehot\", dropLast=False)\n",
    "        encoder_model = encoder.fit(df)\n",
    "        df = encoder_model.transform(df)\n",
    "        df = df.withColumn(f\"{column_name}_onehot_array\", vector_to_array(fn.col(f\"{column_name}_onehot\")))\n",
    "        for idx, value in index_to_value_mapping.items():\n",
    "            binary_col_name = f\"{column_name}_{value}\"\n",
    "            df = df.withColumn(binary_col_name, fn.col(f\"{column_name}_onehot_array\")[fn.lit(idx)])\n",
    "        df = df.drop(f\"{column_name}_index\", f\"{column_name}_onehot\", f\"{column_name}_onehot_array\")\n",
    "    return df,lookup_table"
   ]
  },
  {
   "cell_type": "code",
   "execution_count": 46,
   "metadata": {},
   "outputs": [],
   "source": [
    "fintech_df ,lookup_table_df= apply_one_hot_encoding(fintech_df,one_hot_encoding_cols,lookup_table_df)"
   ]
  },
  {
   "cell_type": "code",
   "execution_count": 47,
   "metadata": {},
   "outputs": [
    {
     "name": "stdout",
     "output_type": "stream",
     "text": [
      "+--------------------+---------+----------+--------------+----------+----------------+-------------------+--------+----------+-----------+-----------+-------+-----------+-----------+-----+-------------+----------+--------+-----+---------------+----------+-----+------------------+------------------+------------------+-----------------------+-------------------+------------------+------------------+--------------------+-----------------------------------+--------------------------------+----------------------------+---------------+----------+---------------+\n",
      "|         customer_id|emp_title|emp_length|home_ownership|annual_inc|annual_inc_joint|verification_status|zip_code|addr_state|avg_cur_bal|tot_cur_bal|loan_id|loan_status|loan_amount|state|funded_amount|      term|int_rate|grade|     issue_date|pymnt_plan| type|           purpose|       description|emp_length_numeric|home_ownership_MORTGAGE|home_ownership_RENT|home_ownership_OWN|home_ownership_ANY|home_ownership_OTHER|verification_status_Source Verified|verification_status_Not Verified|verification_status_Verified|type_individual|type_joint|type_direct_pay|\n",
      "+--------------------+---------+----------+--------------+----------+----------------+-------------------+--------+----------+-----------+-----------+-------+-----------+-----------+-----+-------------+----------+--------+-----+---------------+----------+-----+------------------+------------------+------------------+-----------------------+-------------------+------------------+------------------+--------------------+-----------------------------------+--------------------------------+----------------------------+---------------+----------+---------------+\n",
      "|YidceGMwXHhlOFx4Y...|  Teacher| 10+ years|      MORTGAGE|   11064.0|        305009.0|           Verified|   070xx|        NJ|    22952.0|   481989.0| 266839|    Current|    40000.0|   NJ|      40000.0| 36 months|   0.118|   10|19 January 2019|     false|joint|debt_consolidation|Debt consolidation|              11.0|                    1.0|                0.0|               0.0|               0.0|                 0.0|                                0.0|                             0.0|                         1.0|            0.0|       1.0|            0.0|\n",
      "+--------------------+---------+----------+--------------+----------+----------------+-------------------+--------+----------+-----------+-----------+-------+-----------+-----------+-----+-------------+----------+--------+-----+---------------+----------+-----+------------------+------------------+------------------+-----------------------+-------------------+------------------+------------------+--------------------+-----------------------------------+--------------------------------+----------------------------+---------------+----------+---------------+\n",
      "only showing top 1 row\n",
      "\n"
     ]
    }
   ],
   "source": [
    "fintech_df.show(1)"
   ]
  },
  {
   "cell_type": "markdown",
   "metadata": {},
   "source": [
    "3. Label Encoding for `state` and `purpose`"
   ]
  },
  {
   "cell_type": "code",
   "execution_count": 48,
   "metadata": {},
   "outputs": [],
   "source": [
    "label_encoding_cols = [\"state\", \"purpose\"]"
   ]
  },
  {
   "cell_type": "code",
   "execution_count": 49,
   "metadata": {},
   "outputs": [],
   "source": [
    "\n",
    "def apply_label_encoding(df, label_encoding_cols, lookup_table_df):\n",
    "    for column_name in label_encoding_cols:\n",
    "        indexer = StringIndexer(inputCol=column_name, outputCol=f\"{column_name}_label_encoding\", handleInvalid=\"skip\")\n",
    "        indexer_model = indexer.fit(df)\n",
    "        df = indexer_model.transform(df)\n",
    "        index_to_value_mapping = {label: index for index, label in enumerate(indexer_model.labels)}\n",
    "        lookup_table_df = update_lookup_table(lookup_table_df, column_name, index_to_value_mapping)\n",
    "    \n",
    "    return df, lookup_table_df\n",
    "\n"
   ]
  },
  {
   "cell_type": "code",
   "execution_count": 50,
   "metadata": {},
   "outputs": [],
   "source": [
    "fintech_df ,lookup_table_df = apply_label_encoding(fintech_df,label_encoding_cols,lookup_table_df)"
   ]
  },
  {
   "cell_type": "markdown",
   "metadata": {},
   "source": [
    "4. Discretize `grade` to `letter_grade`"
   ]
  },
  {
   "cell_type": "code",
   "execution_count": 51,
   "metadata": {},
   "outputs": [],
   "source": [
    "def apply_letter_grade_mapping(df, lookup_df):\n",
    "    grade_mapping = {\n",
    "         \"1-5\":\"A\",\n",
    "        \"6-10\":\"B\",\n",
    "        \"11-15\":\"C\",\n",
    "       \"16-20\": \"D\",\n",
    "       \"21-25\": \"E\",\n",
    "        \"26-30\":\"F\",\n",
    "        \"31-35\":\"G\"\n",
    "    }\n",
    "    df = df.withColumn( \"letter_grade\", fn.when((fn.col(\"grade\") >= 1) &(fn.col(\"grade\")<= 5),\"A\")\n",
    "        .when((fn.col(\"grade\") >= 6) &(fn.col(\"grade\")<= 10), \"B\").when((fn.col(\"grade\") >= 11) &(fn.col(\"grade\")<= 15), \"C\")\n",
    "        .when((fn.col(\"grade\") >= 16) &(fn.col(\"grade\")<= 20), \"D\").when((fn.col(\"grade\") >= 21) &(fn.col(\"grade\")<= 25), \"E\")\n",
    "        .when((fn.col(\"grade\") >= 26) &(fn.col(\"grade\")<= 30), \"F\").when((fn.col(\"grade\") >= 31) &(fn.col(\"grade\")<= 35),\"G\")\n",
    "    )\n",
    "    lookup_df = update_lookup_table(lookup_df, \"grade\", grade_mapping)\n",
    "    return df, lookup_df\n"
   ]
  },
  {
   "cell_type": "code",
   "execution_count": 52,
   "metadata": {},
   "outputs": [],
   "source": [
    "fintech_df, lookup_table_df = apply_letter_grade_mapping(fintech_df, lookup_table_df)"
   ]
  },
  {
   "cell_type": "code",
   "execution_count": 53,
   "metadata": {},
   "outputs": [
    {
     "name": "stdout",
     "output_type": "stream",
     "text": [
      "+------------+------------------+-------------+\n",
      "|feature_name|original_value    |encoded_value|\n",
      "+------------+------------------+-------------+\n",
      "|purpose     |debt_consolidation|0            |\n",
      "|purpose     |credit_card       |1            |\n",
      "|purpose     |home_improvement  |2            |\n",
      "|purpose     |other             |3            |\n",
      "|purpose     |major_purchase    |4            |\n",
      "|purpose     |medical           |5            |\n",
      "|purpose     |car               |6            |\n",
      "|purpose     |small_business    |7            |\n",
      "|purpose     |vacation          |8            |\n",
      "|purpose     |house             |9            |\n",
      "|purpose     |moving            |10           |\n",
      "|purpose     |renewable_energy  |11           |\n",
      "|purpose     |wedding           |12           |\n",
      "+------------+------------------+-------------+\n",
      "\n"
     ]
    }
   ],
   "source": [
    "lookup_table_df.filter(fn.col('feature_name') == 'purpose').show(truncate=False)\n"
   ]
  },
  {
   "cell_type": "code",
   "execution_count": 54,
   "metadata": {},
   "outputs": [
    {
     "name": "stdout",
     "output_type": "stream",
     "text": [
      "+--------------------+--------------------+----------+--------------+----------+----------------+-------------------+--------+----------+-----------+-----------+-------+-----------+-----------+-----+-------------+----------+--------+-----+----------------+----------+----------+------------------+--------------------+------------------+-----------------------+-------------------+------------------+------------------+--------------------+-----------------------------------+--------------------------------+----------------------------+---------------+----------+---------------+--------------------+----------------------+------------+\n",
      "|         customer_id|           emp_title|emp_length|home_ownership|annual_inc|annual_inc_joint|verification_status|zip_code|addr_state|avg_cur_bal|tot_cur_bal|loan_id|loan_status|loan_amount|state|funded_amount|      term|int_rate|grade|      issue_date|pymnt_plan|      type|           purpose|         description|emp_length_numeric|home_ownership_MORTGAGE|home_ownership_RENT|home_ownership_OWN|home_ownership_ANY|home_ownership_OTHER|verification_status_Source Verified|verification_status_Not Verified|verification_status_Verified|type_individual|type_joint|type_direct_pay|state_label_encoding|purpose_label_encoding|letter_grade|\n",
      "+--------------------+--------------------+----------+--------------+----------+----------------+-------------------+--------+----------+-----------+-----------+-------+-----------+-----------+-----+-------------+----------+--------+-----+----------------+----------+----------+------------------+--------------------+------------------+-----------------------+-------------------+------------------+------------------+--------------------+-----------------------------------+--------------------------------+----------------------------+---------------+----------+---------------+--------------------+----------------------+------------+\n",
      "|YidceGMwXHhlOFx4Y...|             Teacher| 10+ years|      MORTGAGE|   11064.0|        305009.0|           Verified|   070xx|        NJ|    22952.0|   481989.0| 266839|    Current|    40000.0|   NJ|      40000.0| 36 months|   0.118|   10| 19 January 2019|     false|     joint|debt_consolidation|  Debt consolidation|              11.0|                    1.0|                0.0|               0.0|               0.0|                 0.0|                                0.0|                             0.0|                         1.0|            0.0|       1.0|            0.0|                 5.0|                   0.0|           B|\n",
      "|YidPKl9ceGVmXHhhM...|           detective| 10+ years|      MORTGAGE|  100000.0|             0.0|       Not Verified|   297xx|        SC|    23405.0|   234053.0| 235180|    Current|    28000.0|   SC|      28000.0| 36 months|  0.0735|    5|    17 July 2017|     false|individual|debt_consolidation|  Debt consolidation|              11.0|                    1.0|                0.0|               0.0|               0.0|                 0.0|                                0.0|                             1.0|                         0.0|            1.0|       0.0|            0.0|                24.0|                   0.0|           A|\n",
      "|YiJceDg0a1x4ODBWX...|Residential Couns...|  < 1 year|      MORTGAGE|   32000.0|             0.0|       Not Verified|   083xx|        NJ|     4823.0|    19293.0|  11405|    Current|     3000.0|   NJ|       3000.0| 36 months|  0.1504|   11|   18 April 2018|     false|individual|             other|               Other|               0.5|                    1.0|                0.0|               0.0|               0.0|                 0.0|                                0.0|                             1.0|                         0.0|            1.0|       0.0|            0.0|                 5.0|                   3.0|           C|\n",
      "|YiJyXHhiMlx4ZTZce...|respiratory thera...|   6 years|      MORTGAGE|   64000.0|             0.0|    Source Verified|   721xx|        AR|     9753.0|   195051.0| 113334| Fully Paid|    11400.0|   AR|      11400.0| 36 months|  0.1099|    8|   14 April 2014|     false|individual|debt_consolidation|  Debt consolidation|               6.0|                    1.0|                0.0|               0.0|               0.0|                 0.0|                                1.0|                             0.0|                         0.0|            1.0|       0.0|            0.0|                31.0|                   0.0|           B|\n",
      "|YicuXHg4ZVx4YWVce...|   Content Associate|   3 years|          RENT|   48000.0|             0.0|    Source Verified|   060xx|        CT|     2695.0|    37734.0| 163518|    Current|    16000.0|   CT|      16000.0| 36 months|  0.0849|    7| 16 January 2016|     false|individual|       credit_card|  Debt consolidation|               3.0|                    0.0|                1.0|               0.0|               0.0|                 0.0|                                1.0|                             0.0|                         0.0|            1.0|       0.0|            0.0|                20.0|                   1.0|           B|\n",
      "|YidEXHgxYVx4ZGRce...|    Staff Accountant|  < 1 year|          RENT|   58000.0|             0.0|       Not Verified|   852xx|        AZ|     6427.0|   154244.0| 167828|    Current|    16000.0|   AZ|      16000.0| 60 months|   0.143|   12|  19 August 2019|     false|individual|       credit_card|Credit card refin...|               0.5|                    0.0|                1.0|               0.0|               0.0|                 0.0|                                0.0|                             1.0|                         0.0|            1.0|       0.0|            0.0|                12.0|                   1.0|           C|\n",
      "|YidceDAzXHg4M1x4Y...|       Sr Consultant|   5 years|          RENT|   90000.0|             0.0|       Not Verified|   919xx|        CA|     2474.0|    32157.0|  87226|    Current|    10000.0|   CA|      10000.0| 36 months|  0.0839|    1|  14 August 2014|     false|individual|             other|               Other|               5.0|                    0.0|                1.0|               0.0|               0.0|                 0.0|                                0.0|                             1.0|                         0.0|            1.0|       0.0|            0.0|                 0.0|                   3.0|           A|\n",
      "|YidceGY4L1o5K0Vce...|   Software Engineer|  < 1 year|          RENT|   98500.0|             0.0|           Verified|   201xx|        VA|     6557.0|    78688.0| 257458| Fully Paid|    35000.0|   VA|      35000.0| 36 months|  0.1825|   23|   15 March 2015|     false|individual|debt_consolidation|  Debt consolidation|               0.5|                    0.0|                1.0|               0.0|               0.0|                 0.0|                                0.0|                             0.0|                         1.0|            1.0|       0.0|            0.0|                10.0|                   0.0|           E|\n",
      "|YidceGUxeDFceGJkX...|  Vendor Coordinator|   3 years|      MORTGAGE|   42000.0|        167000.0|    Source Verified|   834xx|        ID|     8035.0|   168742.0| 269824|    Current|    40000.0|   ID|      40000.0| 60 months|  0.1601|   15|     18 May 2018|     false|     joint|debt_consolidation|  Debt consolidation|               3.0|                    1.0|                0.0|               0.0|               0.0|                 0.0|                                1.0|                             0.0|                         0.0|            0.0|       1.0|            0.0|                42.0|                   0.0|           C|\n",
      "|YiJ2XHhhZVx4MTAmX...|        Receptionist|   4 years|          RENT|   45000.0|             0.0|           Verified|   930xx|        CA|     1005.0|    16082.0|  55125|    Current|     7000.0|   CA|       7000.0| 36 months|  0.1505|   15|    17 July 2017|     false|individual|debt_consolidation|  Debt consolidation|               4.0|                    0.0|                1.0|               0.0|               0.0|                 0.0|                                0.0|                             0.0|                         1.0|            1.0|       0.0|            0.0|                 0.0|                   0.0|           C|\n",
      "|YidOXHhjYlx4ODZce...|        Trail Safety| 10+ years|          RENT|   33000.0|             0.0|       Not Verified|   814xx|        CO|     1263.0|     6316.0|  49327| Fully Paid|     6500.0|   CO|       6500.0| 36 months|  0.0532|    3| 15 October 2015|     false|individual|debt_consolidation|  Debt consolidation|              11.0|                    0.0|                1.0|               0.0|               0.0|                 0.0|                                0.0|                             1.0|                         0.0|            1.0|       0.0|            0.0|                15.0|                   0.0|           A|\n",
      "|YidceDE4cFx4ZDhce...|fullfillment coor...| 10+ years|          RENT|   51000.0|             0.0|       Not Verified|   600xx|        IL|     5693.0|    17078.0|  14186| Fully Paid|     3500.0|   IL|       3500.0| 36 months|  0.1099|    6|     15 May 2015|     false|individual|debt_consolidation|  Debt consolidation|              11.0|                    0.0|                1.0|               0.0|               0.0|                 0.0|                                0.0|                             1.0|                         0.0|            1.0|       0.0|            0.0|                 4.0|                   0.0|           B|\n",
      "|YidceDA2XHhmNllce...|          Supervisor| 10+ years|      MORTGAGE|   85000.0|             0.0|       Not Verified|   755xx|        TX|    11730.0|   140765.0|  40674| Fully Paid|     6000.0|   TX|       6000.0| 36 months|  0.0799|    3|     17 May 2017|     false|individual|  home_improvement|    Home improvement|              11.0|                    1.0|                0.0|               0.0|               0.0|                 0.0|                                0.0|                             1.0|                         0.0|            1.0|       0.0|            0.0|                 1.0|                   2.0|           A|\n",
      "|YiJxMHJlXHg5OFx4Y...|      Quality Leader|   5 years|          RENT|   32000.0|             0.0|           Verified|   245xx|        VA|     2051.0|    38972.0| 112725|    Current|    11200.0|   VA|      11200.0| 60 months|  0.1561|   15|14 February 2014|     false|individual|debt_consolidation|  Debt consolidation|               5.0|                    0.0|                1.0|               0.0|               0.0|                 0.0|                                0.0|                             0.0|                         1.0|            1.0|       0.0|            0.0|                10.0|                   0.0|           C|\n",
      "|YidceDlkXHhiYUNce...|Senior Relationsh...|  < 1 year|          RENT|   75000.0|             0.0|           Verified|   300xx|        GA|     2176.0|    17407.0| 167657|    Current|    16000.0|   GA|      16000.0| 60 months|  0.1399|   13|    16 July 2016|     false|individual|debt_consolidation|  Debt consolidation|               0.5|                    0.0|                1.0|               0.0|               0.0|                 0.0|                                0.0|                             0.0|                         1.0|            1.0|       0.0|            0.0|                 7.0|                   0.0|           C|\n",
      "|YidpXHhhNUBjKDtJe...|    Key Acct Manager|   9 years|      MORTGAGE|  110000.0|             0.0|       Not Verified|   681xx|        NE|    21694.0|   325408.0|  11851|    Current|     3000.0|   NE|       3000.0| 36 months|  0.1797|   18|18 December 2018|     false|individual|debt_consolidation|  Debt consolidation|               9.0|                    1.0|                0.0|               0.0|               0.0|                 0.0|                                0.0|                             1.0|                         0.0|            1.0|       0.0|            0.0|                38.0|                   0.0|           D|\n",
      "|YidrXHhhMVtceGU4X...|Director of Human...|  < 1 year|          RENT|   85000.0|             0.0|       Not Verified|   940xx|        CA|     5426.0|    43409.0| 183565| Fully Paid|    19000.0|   CA|      19000.0| 36 months|  0.0789|    5|   15 April 2015|     false|individual|debt_consolidation|  Debt consolidation|               0.5|                    0.0|                1.0|               0.0|               0.0|                 0.0|                                0.0|                             1.0|                         0.0|            1.0|       0.0|            0.0|                 0.0|                   0.0|           A|\n",
      "|YidceDkyXHhkMlx4M...|               Owner| 10+ years|      MORTGAGE|   74000.0|             0.0|       Not Verified|   794xx|        TX|    13695.0|   164345.0|  84422|    Current|    10000.0|   TX|      10000.0| 36 months|  0.0699|    1| 16 January 2016|     false|individual|       credit_card|Credit card refin...|              11.0|                    1.0|                0.0|               0.0|               0.0|                 0.0|                                0.0|                             1.0|                         0.0|            1.0|       0.0|            0.0|                 1.0|                   1.0|           A|\n",
      "|YidceGFiPkZceGZmO...|             Teacher|  < 1 year|      MORTGAGE|  120000.0|             0.0|       Not Verified|   945xx|        CA|     7125.0|    92623.0| 161915|    Current|    16000.0|   CA|      16000.0| 36 months|  0.0646|    5|    19 July 2019|     false|individual|       credit_card|Credit card refin...|               0.5|                    1.0|                0.0|               0.0|               0.0|                 0.0|                                0.0|                             1.0|                         0.0|            1.0|       0.0|            0.0|                 0.0|                   1.0|           A|\n",
      "|YidceGRmXHhlYksva...|       Project  Lead|   2 years|      MORTGAGE|   58000.0|             0.0|           Verified|   330xx|        FL|     4206.0|    46263.0| 153452| Fully Paid|    15000.0|   FL|      15000.0| 36 months|  0.1655|   18|     15 May 2015|     false|individual|debt_consolidation|  Debt consolidation|               2.0|                    1.0|                0.0|               0.0|               0.0|                 0.0|                                0.0|                             0.0|                         1.0|            1.0|       0.0|            0.0|                 3.0|                   0.0|           D|\n",
      "+--------------------+--------------------+----------+--------------+----------+----------------+-------------------+--------+----------+-----------+-----------+-------+-----------+-----------+-----+-------------+----------+--------+-----+----------------+----------+----------+------------------+--------------------+------------------+-----------------------+-------------------+------------------+------------------+--------------------+-----------------------------------+--------------------------------+----------------------------+---------------+----------+---------------+--------------------+----------------------+------------+\n",
      "only showing top 20 rows\n",
      "\n"
     ]
    }
   ],
   "source": [
    "fintech_df.show()"
   ]
  },
  {
   "cell_type": "markdown",
   "metadata": {},
   "source": [
    "### Part 4: Feature Engineering"
   ]
  },
  {
   "cell_type": "markdown",
   "metadata": {},
   "source": [
    "When i have discovered the dataset schema , I found that the `issue_date` feature is of type `string` not `date` , so in order to use `Window` prorperly , I need to convert it to `date` type using `to_date` from `pyspark`"
   ]
  },
  {
   "cell_type": "code",
   "execution_count": 55,
   "metadata": {},
   "outputs": [],
   "source": [
    "fintech_df = fintech_df.withColumn(\"issue_date\", to_date(fn.col(\"issue_date\"), \"d MMMM yyyy\"))"
   ]
  },
  {
   "cell_type": "code",
   "execution_count": 56,
   "metadata": {},
   "outputs": [
    {
     "name": "stdout",
     "output_type": "stream",
     "text": [
      "+----------+\n",
      "|issue_date|\n",
      "+----------+\n",
      "|2013-08-13|\n",
      "|2013-08-13|\n",
      "|2013-08-13|\n",
      "|2013-08-13|\n",
      "|2013-08-13|\n",
      "|2013-08-13|\n",
      "|2013-08-13|\n",
      "|2013-08-13|\n",
      "|2013-08-13|\n",
      "|2013-08-13|\n",
      "|2013-08-13|\n",
      "|2013-08-13|\n",
      "|2016-12-16|\n",
      "|2016-12-16|\n",
      "|2016-12-16|\n",
      "|2016-12-16|\n",
      "|2016-12-16|\n",
      "|2016-12-16|\n",
      "|2016-12-16|\n",
      "|2016-12-16|\n",
      "+----------+\n",
      "only showing top 20 rows\n",
      "\n"
     ]
    }
   ],
   "source": [
    "fintech_df.select('issue_date').show()"
   ]
  },
  {
   "cell_type": "code",
   "execution_count": 57,
   "metadata": {},
   "outputs": [],
   "source": [
    "def add_previous_loan_features(df):\n",
    "    grade_window = Window.partitionBy('grade').orderBy('issue_date')\n",
    "    grade_state_combined_window = Window.partitionBy(['grade','state']).orderBy('issue_date')\n",
    "#     df = df.withColumn(\"prev_issue_date_from_same_grade\", fn.lag(\"issue_date\",1).over(grade_window)).orderBy(\"issue_date\")\n",
    "#     df = df.withColumn( \"prev_loan_amount_from_same_grade\", fn.lag(\"loan_amount\",1).over(grade_window)).orderBy(\"loan_amount\")\n",
    "#     df = df.withColumn(\"pre_loan_date_from_same_state_grade\", fn.lag(\"issue_date\",1).over(grade_state_combined_window)).orderBy(\"issue_date\")\n",
    "#     df = df.withColumn(\"prev_loan_amount_from_same_state_grade\",fn.lag(\"loan_amount\",1).over(grade_state_combined_window)).orderBy(\"loan_amount\")\n",
    "    df= df.withColumn(\"prev_issue_date_from_same_grade\", fn.lag(\"issue_date\",1).over(grade_window))\\\n",
    "           .withColumn( \"prev_loan_amount_from_same_grade\", fn.lag(\"loan_amount\",1).over(grade_window))\\\n",
    "           .withColumn(\"prev_loan_date_from_same_state_grade\", fn.lag(\"issue_date\",1).over(grade_state_combined_window))\\\n",
    "           .withColumn(\"prev_loan_amount_from_same_state_grade\",fn.lag(\"loan_amount\",1).over(grade_state_combined_window))\n",
    "    return df"
   ]
  },
  {
   "cell_type": "code",
   "execution_count": 58,
   "metadata": {},
   "outputs": [],
   "source": [
    "fintech_df = add_previous_loan_features(fintech_df)\n"
   ]
  },
  {
   "cell_type": "code",
   "execution_count": 59,
   "metadata": {},
   "outputs": [
    {
     "name": "stdout",
     "output_type": "stream",
     "text": [
      "+-----+----------+-------------------------------+\n",
      "|grade|issue_date|prev_issue_date_from_same_grade|\n",
      "+-----+----------+-------------------------------+\n",
      "|    1|2012-09-12|                           NULL|\n",
      "|    1|2012-09-12|                     2012-09-12|\n",
      "|    1|2012-10-12|                     2012-09-12|\n",
      "|    1|2012-10-12|                     2012-10-12|\n",
      "|    1|2012-10-12|                     2012-10-12|\n",
      "|    1|2012-10-12|                     2012-10-12|\n",
      "|    1|2012-11-12|                     2012-10-12|\n",
      "|    1|2012-12-12|                     2012-11-12|\n",
      "|    1|2012-12-12|                     2012-12-12|\n",
      "|    1|2012-12-12|                     2012-12-12|\n",
      "|    1|2013-01-13|                     2012-12-12|\n",
      "|    1|2013-01-13|                     2013-01-13|\n",
      "|    1|2013-02-13|                     2013-01-13|\n",
      "|    1|2013-02-13|                     2013-02-13|\n",
      "|    1|2013-03-13|                     2013-02-13|\n",
      "|    1|2013-03-13|                     2013-03-13|\n",
      "|    1|2013-04-13|                     2013-03-13|\n",
      "|    1|2013-04-13|                     2013-04-13|\n",
      "|    1|2013-04-13|                     2013-04-13|\n",
      "|    1|2013-05-13|                     2013-04-13|\n",
      "+-----+----------+-------------------------------+\n",
      "only showing top 20 rows\n",
      "\n"
     ]
    }
   ],
   "source": [
    "fintech_df.select('grade', 'issue_date','prev_issue_date_from_same_grade').orderBy('grade').show()"
   ]
  },
  {
   "cell_type": "code",
   "execution_count": 60,
   "metadata": {},
   "outputs": [
    {
     "name": "stdout",
     "output_type": "stream",
     "text": [
      "+-----+-----------+--------------------------------+\n",
      "|grade|loan_amount|prev_loan_amount_from_same_grade|\n",
      "+-----+-----------+--------------------------------+\n",
      "|    1|    12800.0|                            NULL|\n",
      "|    1|     3000.0|                         12800.0|\n",
      "|    1|    12000.0|                          3000.0|\n",
      "|    1|     8000.0|                         12000.0|\n",
      "|    1|     8000.0|                          8000.0|\n",
      "|    1|    16550.0|                          8000.0|\n",
      "|    1|     8900.0|                         16550.0|\n",
      "|    1|     6500.0|                          8900.0|\n",
      "|    1|     2600.0|                          6500.0|\n",
      "|    1|    22000.0|                          2600.0|\n",
      "|    1|    15000.0|                         22000.0|\n",
      "|    1|    15000.0|                         15000.0|\n",
      "|    1|    28000.0|                         15000.0|\n",
      "|    1|    20000.0|                         28000.0|\n",
      "|    1|    20050.0|                         20000.0|\n",
      "|    1|     6500.0|                         20050.0|\n",
      "|    1|    17400.0|                          6500.0|\n",
      "|    1|    10000.0|                         17400.0|\n",
      "|    1|    14000.0|                         10000.0|\n",
      "|    1|    21000.0|                         14000.0|\n",
      "+-----+-----------+--------------------------------+\n",
      "only showing top 20 rows\n",
      "\n"
     ]
    }
   ],
   "source": [
    "fintech_df.select('grade', 'loan_amount','prev_loan_amount_from_same_grade').orderBy('grade').show()"
   ]
  },
  {
   "cell_type": "code",
   "execution_count": 61,
   "metadata": {},
   "outputs": [
    {
     "name": "stdout",
     "output_type": "stream",
     "text": [
      "+-----+-----+----------+------------------------------------+\n",
      "|state|grade|issue_date|prev_loan_date_from_same_state_grade|\n",
      "+-----+-----+----------+------------------------------------+\n",
      "|   AK|    1|2013-12-13|                                NULL|\n",
      "|   AK|    1|2019-12-19|                          2013-12-13|\n",
      "|   AL|    1|2015-05-15|                                NULL|\n",
      "|   AL|    1|2015-07-15|                          2015-05-15|\n",
      "|   AL|    1|2015-09-15|                          2015-07-15|\n",
      "|   AL|    1|2015-10-15|                          2015-09-15|\n",
      "|   AL|    1|2016-07-16|                          2015-10-15|\n",
      "|   AL|    1|2018-03-18|                          2016-07-16|\n",
      "|   AL|    1|2019-06-19|                          2018-03-18|\n",
      "|   AL|    1|2019-10-19|                          2019-06-19|\n",
      "|   AR|    1|2014-05-14|                                NULL|\n",
      "|   AR|    1|2014-10-14|                          2014-05-14|\n",
      "|   AR|    1|2014-12-14|                          2014-10-14|\n",
      "|   AR|    1|2016-10-16|                          2014-12-14|\n",
      "|   AR|    1|2018-01-18|                          2016-10-16|\n",
      "|   AR|    1|2018-09-18|                          2018-01-18|\n",
      "|   AR|    1|2019-01-19|                          2018-09-18|\n",
      "|   AR|    1|2019-02-19|                          2019-01-19|\n",
      "|   AR|    1|2019-07-19|                          2019-02-19|\n",
      "|   AR|    1|2019-11-19|                          2019-07-19|\n",
      "+-----+-----+----------+------------------------------------+\n",
      "only showing top 20 rows\n",
      "\n"
     ]
    }
   ],
   "source": [
    "fintech_df.select('state','grade', 'issue_date','prev_loan_date_from_same_state_grade').orderBy(['grade','state','issue_date']).show()"
   ]
  },
  {
   "cell_type": "code",
   "execution_count": 62,
   "metadata": {},
   "outputs": [
    {
     "name": "stdout",
     "output_type": "stream",
     "text": [
      "+-----+-----+-----------+--------------------------------------+\n",
      "|state|grade|loan_amount|prev_loan_amount_from_same_state_grade|\n",
      "+-----+-----+-----------+--------------------------------------+\n",
      "|   AK|    1|    20000.0|                                  NULL|\n",
      "|   AK|    1|    24000.0|                               20000.0|\n",
      "|   AL|    1|    15000.0|                                  NULL|\n",
      "|   AL|    1|     8000.0|                               15000.0|\n",
      "|   AL|    1|    18000.0|                                8000.0|\n",
      "|   AL|    1|    25000.0|                               18000.0|\n",
      "|   AL|    1|     4000.0|                               25000.0|\n",
      "|   AL|    1|    10000.0|                                4000.0|\n",
      "|   AL|    1|     7000.0|                               10000.0|\n",
      "|   AL|    1|    10000.0|                                7000.0|\n",
      "|   AR|    1|    20000.0|                                  NULL|\n",
      "|   AR|    1|    12500.0|                               20000.0|\n",
      "|   AR|    1|     9900.0|                               12500.0|\n",
      "|   AR|    1|    10000.0|                                9900.0|\n",
      "|   AR|    1|    20000.0|                               10000.0|\n",
      "|   AR|    1|    10525.0|                               20000.0|\n",
      "|   AR|    1|    15000.0|                               10525.0|\n",
      "|   AR|    1|    10000.0|                               15000.0|\n",
      "|   AR|    1|    25000.0|                               10000.0|\n",
      "|   AR|    1|    14000.0|                               25000.0|\n",
      "+-----+-----+-----------+--------------------------------------+\n",
      "only showing top 20 rows\n",
      "\n"
     ]
    }
   ],
   "source": [
    "fintech_df.select('state','grade', 'loan_amount','prev_loan_amount_from_same_state_grade').orderBy(['grade','state','issue_date']).show()"
   ]
  },
  {
   "cell_type": "code",
   "execution_count": 63,
   "metadata": {},
   "outputs": [
    {
     "name": "stdout",
     "output_type": "stream",
     "text": [
      "+--------------------+--------------------+----------+--------------+----------+----------------+-------------------+--------+----------+-----------+-----------+-------+-----------+-----------+-----+-------------+----------+--------+-----+----------+----------+----------+------------------+--------------------+------------------+-----------------------+-------------------+------------------+------------------+--------------------+-----------------------------------+--------------------------------+----------------------------+---------------+----------+---------------+--------------------+----------------------+------------+-------------------------------+--------------------------------+------------------------------------+--------------------------------------+\n",
      "|         customer_id|           emp_title|emp_length|home_ownership|annual_inc|annual_inc_joint|verification_status|zip_code|addr_state|avg_cur_bal|tot_cur_bal|loan_id|loan_status|loan_amount|state|funded_amount|      term|int_rate|grade|issue_date|pymnt_plan|      type|           purpose|         description|emp_length_numeric|home_ownership_MORTGAGE|home_ownership_RENT|home_ownership_OWN|home_ownership_ANY|home_ownership_OTHER|verification_status_Source Verified|verification_status_Not Verified|verification_status_Verified|type_individual|type_joint|type_direct_pay|state_label_encoding|purpose_label_encoding|letter_grade|prev_issue_date_from_same_grade|prev_loan_amount_from_same_grade|prev_loan_date_from_same_state_grade|prev_loan_amount_from_same_state_grade|\n",
      "+--------------------+--------------------+----------+--------------+----------+----------------+-------------------+--------+----------+-----------+-----------+-------+-----------+-----------+-----+-------------+----------+--------+-----+----------+----------+----------+------------------+--------------------+------------------+-----------------------+-------------------+------------------+------------------+--------------------+-----------------------------------+--------------------------------+----------------------------+---------------+----------+---------------+--------------------+----------------------+------------+-------------------------------+--------------------------------+------------------------------------+--------------------------------------+\n",
      "|YidceGI1JWRqSmJiX...|     Finance Manager|   8 years|          RENT|   32000.0|             0.0|    Source Verified|   999xx|        AK|     1187.0|    11873.0|  72193|Charged Off|     8500.0|   AK|       8500.0| 36 months|  0.0818|    6|2015-03-15|     false|individual|debt_consolidation|  Debt consolidation|               8.0|                    0.0|                1.0|               0.0|               0.0|                 0.0|                                1.0|                             0.0|                         0.0|            1.0|       0.0|            0.0|                44.0|                   0.0|           B|                     2015-03-15|                          8600.0|                                NULL|                                  NULL|\n",
      "|YidceGQ5XHhkNlx4Z...|Human Resource Co...|   2 years|          RENT|   56640.0|             0.0|    Source Verified|   998xx|        AK|     8633.0|   120855.0| 164448| Fully Paid|    16000.0|   AK|      16000.0| 36 months|  0.1153|    6|2015-10-15|     false|individual|debt_consolidation|  Debt consolidation|               2.0|                    0.0|                1.0|               0.0|               0.0|                 0.0|                                1.0|                             0.0|                         0.0|            1.0|       0.0|            0.0|                44.0|                   0.0|           B|                     2015-10-15|                         10000.0|                          2015-03-15|                                8500.0|\n",
      "|YidceGFlXHhmNFx4Y...|            Security|   2 years|      MORTGAGE|   52800.0|             0.0|           Verified|   996xx|        AK|    26697.0|   320369.0|  34772| Fully Paid|     5125.0|   AK|       5125.0| 36 months|  0.1064|    6|2015-12-15|     false|individual|debt_consolidation|  Debt consolidation|               2.0|                    1.0|                0.0|               0.0|               0.0|                 0.0|                                0.0|                             0.0|                         1.0|            1.0|       0.0|            0.0|                44.0|                   0.0|           B|                     2015-12-15|                         27000.0|                          2015-10-15|                               16000.0|\n",
      "|Yic4XHhlZGtceDhmX...|sales and service...|   3 years|          RENT|   45000.0|             0.0|    Source Verified|   995xx|        AK|     2327.0|    27924.0|  41104| Fully Paid|     6000.0|   AK|       6000.0| 36 months|  0.0849|    6|2016-01-16|     false|individual|debt_consolidation|  Debt consolidation|               3.0|                    0.0|                1.0|               0.0|               0.0|                 0.0|                                1.0|                             0.0|                         0.0|            1.0|       0.0|            0.0|                44.0|                   0.0|           B|                     2016-01-16|                          4800.0|                          2015-12-15|                                5125.0|\n",
      "|YidceGM4O1x4OTZce...|             Teacher|   2 years|          RENT|   60000.0|             0.0|    Source Verified|   995xx|        AK|     2310.0|    20794.0|  65017|    Current|     8000.0|   AK|       8000.0| 36 months|  0.1049|    6|2016-08-16|     false|individual|       credit_card|Credit card refin...|               2.0|                    0.0|                1.0|               0.0|               0.0|                 0.0|                                1.0|                             0.0|                         0.0|            1.0|       0.0|            0.0|                44.0|                   1.0|           B|                     2016-08-16|                          4500.0|                          2016-01-16|                                6000.0|\n",
      "|YidISWJceGQ4XHhiZ...|   Dental hygienist | 10+ years|      MORTGAGE|   38000.0|        200000.0|    Source Verified|   997xx|        AK|    34179.0|   546860.0| 203062|    Current|    20425.0|   AK|      20425.0| 60 months|  0.1308|    6|2019-06-19|     false|     joint|debt_consolidation|  Debt consolidation|              11.0|                    1.0|                0.0|               0.0|               0.0|                 0.0|                                1.0|                             0.0|                         0.0|            0.0|       1.0|            0.0|                44.0|                   0.0|           B|                     2019-06-19|                         23000.0|                          2016-08-16|                                8000.0|\n",
      "|YidceDEyIlx4YmFce...|             Shoneys|   7 years|          RENT|   21000.0|             0.0|       Not Verified|   360xx|        AL|     2162.0|    10811.0|  38414| Fully Paid|     5800.0|   AL|       5800.0| 36 months|  0.1016|    6|2012-09-12|     false|individual|debt_consolidation|                Loan|               7.0|                    0.0|                1.0|               0.0|               0.0|                 0.0|                                0.0|                             1.0|                         0.0|            1.0|       0.0|            0.0|                27.0|                   0.0|           B|                     2012-09-12|                         16100.0|                                NULL|                                  NULL|\n",
      "|YidceGM3XHhlYVx4Y...|Southern Controls...| 10+ years|      MORTGAGE|   60000.0|             0.0|       Not Verified|   360xx|        AL|     1928.0|     5783.0| 177642| Fully Paid|    18000.0|   AL|      18000.0| 36 months|  0.1016|    6|2013-04-13|     false|individual|    major_purchase|      Major purchase|              11.0|                    1.0|                0.0|               0.0|               0.0|                 0.0|                                0.0|                             1.0|                         0.0|            1.0|       0.0|            0.0|                27.0|                   4.0|           B|                     2013-04-13|                         15000.0|                          2012-09-12|                                5800.0|\n",
      "|YidceDE4XHhhMFx4M...|Program Budget An...|   8 years|          RENT|   74000.0|             0.0|       Not Verified|   357xx|        AL|     3310.0|    16551.0|  22882| Fully Paid|     4700.0|   AL|       4700.0| 36 months|  0.0967|    6|2014-03-14|     false|individual|debt_consolidation|  Debt consolidation|               8.0|                    0.0|                1.0|               0.0|               0.0|                 0.0|                                0.0|                             1.0|                         0.0|            1.0|       0.0|            0.0|                27.0|                   0.0|           B|                     2014-03-14|                         12500.0|                          2013-04-13|                               18000.0|\n",
      "|YidceGQ3XHg5Zlx4M...|dental assistant/...|   2 years|           OWN|   30000.0|             0.0|       Not Verified|   369xx|        AL|      277.0|     5821.0|  43253|Charged Off|     6000.0|   AL|       6000.0| 36 months|  0.1153|    6|2015-11-15|     false|individual|debt_consolidation|  Debt consolidation|               2.0|                    0.0|                0.0|               1.0|               0.0|                 0.0|                                0.0|                             1.0|                         0.0|            1.0|       0.0|            0.0|                27.0|                   0.0|           B|                     2015-11-15|                         25000.0|                          2014-03-14|                                4700.0|\n",
      "|YidceGNjcVx4MDBjX...|Branch banker tea...|   8 years|      MORTGAGE|   39000.0|             0.0|           Verified|   357xx|        AL|     5577.0|    27886.0|   3292|    Current|     1800.0|   AL|       1800.0| 36 months|  0.1148|    6|2016-01-16|     false|individual|debt_consolidation|  Debt consolidation|               8.0|                    1.0|                0.0|               0.0|               0.0|                 0.0|                                0.0|                             0.0|                         1.0|            1.0|       0.0|            0.0|                27.0|                   0.0|           B|                     2016-01-16|                          6000.0|                          2015-11-15|                                6000.0|\n",
      "|YidDNVx4OGJceDg4X...|                  RN|   5 years|      MORTGAGE|   50000.0|             0.0|       Not Verified|   359xx|        AL|    14131.0|   141314.0| 120634|    Current|    12000.0|   AL|      12000.0| 36 months|  0.1147|    6|2016-02-16|     false|individual|       credit_card|Credit card refin...|               5.0|                    1.0|                0.0|               0.0|               0.0|                 0.0|                                0.0|                             1.0|                         0.0|            1.0|       0.0|            0.0|                27.0|                   1.0|           B|                     2016-02-16|                          7200.0|                          2016-01-16|                                1800.0|\n",
      "|YictO1x4ZTVceDg5X...|   Financial Advisor|    1 year|           OWN|  100000.0|             0.0|    Source Verified|   365xx|        AL|    16663.0|   383246.0| 187460|    Current|    20000.0|   AL|      20000.0| 36 months|  0.0975|    6|2016-04-16|     false|individual|debt_consolidation|  Debt consolidation|               1.0|                    0.0|                0.0|               1.0|               0.0|                 0.0|                                1.0|                             0.0|                         0.0|            1.0|       0.0|            0.0|                27.0|                   0.0|           B|                     2016-04-16|                          8000.0|                          2016-02-16|                               12000.0|\n",
      "|YidceDFmXHhkOVx4Y...|  Member service rep| 10+ years|           OWN|   45500.0|             0.0|    Source Verified|   356xx|        AL|     4457.0|    44566.0|   3287|    Current|     1800.0|   AL|       1800.0| 36 months|  0.1139|    6|2016-11-16|     false|individual|       credit_card|Credit card refin...|              11.0|                    0.0|                0.0|               1.0|               0.0|                 0.0|                                1.0|                             0.0|                         0.0|            1.0|       0.0|            0.0|                27.0|                   1.0|           B|                     2016-11-16|                         33000.0|                          2016-04-16|                               20000.0|\n",
      "|Yid0XHhjNFx4MGJce...|patient care coor...|   4 years|          RENT|   35000.0|             0.0|    Source Verified|   351xx|        AL|     6531.0|    58781.0|  27139|    Current|     5000.0|   AL|       5000.0| 36 months|  0.0824|    6|2016-12-16|     false|individual|       credit_card|Credit card refin...|               4.0|                    0.0|                1.0|               0.0|               0.0|                 0.0|                                1.0|                             0.0|                         0.0|            1.0|       0.0|            0.0|                27.0|                   1.0|           B|                     2016-12-16|                          2750.0|                          2016-11-16|                                1800.0|\n",
      "|YidceGIzIFx4YmFce...|Infrastrucute Eng...|    1 year|      MORTGAGE|   78000.0|             0.0|    Source Verified|   350xx|        AL|    31686.0|   348549.0|  29429| Fully Paid|     5000.0|   AL|       5000.0| 36 months|  0.1144|    6|2017-03-17|     false|individual|       credit_card|Credit card refin...|               1.0|                    1.0|                0.0|               0.0|               0.0|                 0.0|                                1.0|                             0.0|                         0.0|            1.0|       0.0|            0.0|                27.0|                   1.0|           B|                     2017-03-17|                         10000.0|                          2016-12-16|                                5000.0|\n",
      "|YidDXHg4Mlx4YWZce...|    Sales associate |   2 years|      MORTGAGE|   23000.0|             0.0|    Source Verified|   357xx|        AL|     7833.0|    23500.0|  28527|    Current|     5000.0|   AL|       5000.0| 36 months|  0.1042|    6|2017-07-17|     false|individual|debt_consolidation|  Debt consolidation|               2.0|                    1.0|                0.0|               0.0|               0.0|                 0.0|                                1.0|                             0.0|                         0.0|            1.0|       0.0|            0.0|                27.0|                   0.0|           B|                     2017-06-17|                         40000.0|                          2017-03-17|                                5000.0|\n",
      "|YidceGU4XHg4Ylx4Z...|       skilled labor|   3 years|      MORTGAGE|   29000.0|             0.0|       Not Verified|   362xx|        AL|      304.0|     1217.0|  15453| Fully Paid|     3600.0|   AL|       3600.0| 36 months|  0.1199|    6|2017-08-17|     false|individual|debt_consolidation|  Debt consolidation|               3.0|                    1.0|                0.0|               0.0|               0.0|                 0.0|                                0.0|                             1.0|                         0.0|            1.0|       0.0|            0.0|                27.0|                   0.0|           B|                     2017-08-17|                         15000.0|                          2017-07-17|                                5000.0|\n",
      "|YiI9XHhkNHRceGRkX...|             Teacher|  < 1 year|      MORTGAGE|   97850.0|             0.0|           Verified|   361xx|        AL|    14218.0|   213265.0| 193626|    Current|    20000.0|   AL|      20000.0| 36 months|  0.1298|    6|2019-01-19|     false|individual|debt_consolidation|  Debt consolidation|               0.5|                    1.0|                0.0|               0.0|               0.0|                 0.0|                                0.0|                             0.0|                         1.0|            1.0|       0.0|            0.0|                27.0|                   0.0|           B|                     2019-01-19|                         12000.0|                          2017-08-17|                                3600.0|\n",
      "|YidceGNkXHg4MFx4O...|             Teacher| 10+ years|      MORTGAGE|   75000.0|        208000.0|    Source Verified|   365xx|        AL|    24376.0|   365639.0| 268414|    Current|    40000.0|   AL|      40000.0| 60 months|  0.1102|    6|2019-06-19|     false|     joint|debt_consolidation|  Debt consolidation|              11.0|                    1.0|                0.0|               0.0|               0.0|                 0.0|                                1.0|                             0.0|                         0.0|            0.0|       1.0|            0.0|                27.0|                   0.0|           B|                     2019-06-19|                         13000.0|                          2019-01-19|                               20000.0|\n",
      "+--------------------+--------------------+----------+--------------+----------+----------------+-------------------+--------+----------+-----------+-----------+-------+-----------+-----------+-----+-------------+----------+--------+-----+----------+----------+----------+------------------+--------------------+------------------+-----------------------+-------------------+------------------+------------------+--------------------+-----------------------------------+--------------------------------+----------------------------+---------------+----------+---------------+--------------------+----------------------+------------+-------------------------------+--------------------------------+------------------------------------+--------------------------------------+\n",
      "only showing top 20 rows\n",
      "\n"
     ]
    }
   ],
   "source": [
    "fintech_df.show()"
   ]
  },
  {
   "cell_type": "markdown",
   "metadata": {},
   "source": [
    "## Part 5: Analysis SQL vs Spark"
   ]
  },
  {
   "cell_type": "markdown",
   "metadata": {},
   "source": [
    "1. 1 First Query : using SQL and Spark \n"
   ]
  },
  {
   "cell_type": "markdown",
   "metadata": {},
   "source": [
    " I extracted relevant info in order to use it inside the first query \n"
   ]
  },
  {
   "cell_type": "code",
   "execution_count": 64,
   "metadata": {},
   "outputs": [
    {
     "name": "stdout",
     "output_type": "stream",
     "text": [
      "First Quartile 35000.0\n",
      "Second Quartile 47000.0\n",
      "Third Quartile 66000.0\n",
      "Fourth Quartile 95000.0\n",
      "Fifth Quartile 130000.0\n"
     ]
    }
   ],
   "source": [
    "q1,q2,q3, q4,q5 = fintech_df.approxQuantile(\"annual_inc\", [0.10,0.25,0.50,0.75,0.90], 0.0)  \n",
    "\n",
    "iqr = q3 - q1\n",
    "\n",
    "print(f'First Quartile {q1}')\n",
    "print(f'Second Quartile {q2}')\n",
    "print(f'Third Quartile {q3}')\n",
    "print(f'Fourth Quartile {q4}')\n",
    "print(f'Fifth Quartile {q5}')"
   ]
  },
  {
   "cell_type": "code",
   "execution_count": 65,
   "metadata": {},
   "outputs": [],
   "source": [
    "fintech_df.createOrReplaceTempView(\"fintect_df_sql_table\")"
   ]
  },
  {
   "cell_type": "markdown",
   "metadata": {},
   "source": [
    "In the first query i ordered by `emp_length_numeric` and `emp_length` once  to have a better visualization of the query to differentiate between different income ranges for each grade "
   ]
  },
  {
   "cell_type": "code",
   "execution_count": 66,
   "metadata": {},
   "outputs": [],
   "source": [
    "\n",
    "first_query_Defualt = \"\"\"SELECT emp_length, CASE \n",
    "            WHEN annual_inc < 47000 THEN 'Low_Annual_Inc' \n",
    "            WHEN annual_inc BETWEEN 47000 AND 95000 THEN 'Average_Annual_Inc' \n",
    "            ELSE 'High_Annual_Inc'END AS income_range,\n",
    "             AVG(loan_amount) AS avg_loan_amount, AVG(int_rate) AS avg_int_rate\n",
    "            FROM fintect_df_sql_table \n",
    "            WHERE loan_status = 'Default'\n",
    "            GROUP BY CASE\n",
    "                WHEN annual_inc < 47000 THEN 'Low_Annual_Inc'\n",
    "                WHEN annual_inc BETWEEN 47000 AND 95000 THEN 'Average_Annual_Inc'\n",
    "                ELSE 'High_Annual_Inc'\n",
    "                END,emp_length\n",
    "            Order BY emp_length\n",
    "        \"\"\"\n",
    "\n"
   ]
  },
  {
   "cell_type": "code",
   "execution_count": 67,
   "metadata": {},
   "outputs": [
    {
     "name": "stdout",
     "output_type": "stream",
     "text": [
      "+----------+---------------+---------------+------------+\n",
      "|emp_length|   income_range|avg_loan_amount|avg_int_rate|\n",
      "+----------+---------------+---------------+------------+\n",
      "|   3 years|High_Annual_Inc|        35000.0|      0.1344|\n",
      "+----------+---------------+---------------+------------+\n",
      "\n"
     ]
    }
   ],
   "source": [
    "\n",
    "first_query_sql_res = spark.sql(first_query_Defualt)\n",
    "first_query_sql_res.show()"
   ]
  },
  {
   "cell_type": "markdown",
   "metadata": {},
   "source": [
    "For the first query , i wanted to test on another value for `loan_status` becuase the dataset already has one record that contain value `Default` in it "
   ]
  },
  {
   "cell_type": "code",
   "execution_count": 68,
   "metadata": {},
   "outputs": [],
   "source": [
    "\n",
    "first_query_Current_emp_length_numeric = \"\"\"SELECT emp_length_numeric, CASE \n",
    "            WHEN annual_inc < 47000 THEN 'Low_Annual_Inc' \n",
    "            WHEN annual_inc BETWEEN 47000 AND 95000 THEN 'Average_Annual_Inc' \n",
    "            ELSE 'High_Annual_Inc'END AS income_range,\n",
    "             AVG(loan_amount) AS avg_loan_amount, AVG(int_rate) AS avg_int_rate\n",
    "            FROM fintect_df_sql_table \n",
    "            WHERE loan_status = 'Current'\n",
    "            GROUP BY CASE\n",
    "                WHEN annual_inc < 47000 THEN 'Low_Annual_Inc'\n",
    "                WHEN annual_inc BETWEEN 47000 AND 95000 THEN 'Average_Annual_Inc'\n",
    "                ELSE 'High_Annual_Inc'\n",
    "                END,emp_length_numeric\n",
    "            Order BY emp_length_numeric\n",
    "        \"\"\"\n"
   ]
  },
  {
   "cell_type": "code",
   "execution_count": 69,
   "metadata": {},
   "outputs": [],
   "source": [
    "\n",
    "first_query_Current_emp_length = \"\"\"SELECT emp_length, \n",
    "            CASE \n",
    "            WHEN annual_inc < 47000 THEN 'Low_Annual_Inc' \n",
    "            WHEN annual_inc BETWEEN 47000 AND 95000 THEN 'Average_Annual_Inc' \n",
    "            ELSE 'High_Annual_Inc'END AS income_range,\n",
    "             AVG(loan_amount) AS avg_loan_amount, AVG(int_rate) AS avg_int_rate\n",
    "            FROM fintect_df_sql_table WHERE loan_status = 'Current'\n",
    "            GROUP BY CASE\n",
    "                WHEN annual_inc < 47000 THEN 'Low_Annual_Inc'\n",
    "                WHEN annual_inc BETWEEN 47000 AND 95000 THEN 'Average_Annual_Inc'\n",
    "                ELSE 'High_Annual_Inc'\n",
    "                END,emp_length\n",
    "            Order BY emp_length\n",
    "        \"\"\""
   ]
  },
  {
   "cell_type": "code",
   "execution_count": 70,
   "metadata": {},
   "outputs": [
    {
     "name": "stdout",
     "output_type": "stream",
     "text": [
      "+------------------+------------------+------------------+-------------------+\n",
      "|emp_length_numeric|      income_range|   avg_loan_amount|       avg_int_rate|\n",
      "+------------------+------------------+------------------+-------------------+\n",
      "|               0.5|    Low_Annual_Inc| 10944.29906542056| 0.1284026168224299|\n",
      "|               0.5|Average_Annual_Inc|15517.972027972028|0.11866503496503494|\n",
      "|               0.5|   High_Annual_Inc|23262.123115577888|0.11073944723618089|\n",
      "|               1.0|   High_Annual_Inc|      22917.578125|     0.115623046875|\n",
      "|               1.0|Average_Annual_Inc|           14640.0|0.12170728971962619|\n",
      "|               1.0|    Low_Annual_Inc| 9597.426470588236|0.12983764705882353|\n",
      "|               2.0|   High_Annual_Inc|22366.641791044774|0.11751223880597013|\n",
      "|               2.0|Average_Annual_Inc|14830.043859649122|0.11936077694235592|\n",
      "|               2.0|    Low_Annual_Inc|  9821.22641509434| 0.1350551886792453|\n",
      "|               3.0|   High_Annual_Inc|21755.420054200542|0.11606964769647696|\n",
      "|               3.0|Average_Annual_Inc|15249.461538461539| 0.1271246153846154|\n",
      "|               3.0|    Low_Annual_Inc| 10104.77207977208| 0.1309230769230769|\n",
      "|               4.0|Average_Annual_Inc|14624.475890985324|0.11774612159329141|\n",
      "|               4.0|   High_Annual_Inc|20848.084677419356|0.11533024193548384|\n",
      "|               4.0|    Low_Annual_Inc|           10162.5| 0.1368621212121212|\n",
      "|               5.0|   High_Annual_Inc|21617.565055762083|0.11434200743494423|\n",
      "|               5.0|    Low_Annual_Inc| 9428.361344537816|0.13598697478991595|\n",
      "|               5.0|Average_Annual_Inc|15390.277777777777| 0.1242412186379928|\n",
      "|               6.0|    Low_Annual_Inc| 9992.814371257486|0.12660239520958086|\n",
      "|               6.0|   High_Annual_Inc|           22005.0| 0.1132308108108108|\n",
      "+------------------+------------------+------------------+-------------------+\n",
      "only showing top 20 rows\n",
      "\n"
     ]
    }
   ],
   "source": [
    "\n",
    "first_query_sql_res = spark.sql(first_query_Current_emp_length_numeric)\n",
    "first_query_sql_res.show()"
   ]
  },
  {
   "cell_type": "code",
   "execution_count": 71,
   "metadata": {},
   "outputs": [
    {
     "name": "stdout",
     "output_type": "stream",
     "text": [
      "+----------+------------------+------------------+-------------------+\n",
      "|emp_length|      income_range|   avg_loan_amount|       avg_int_rate|\n",
      "+----------+------------------+------------------+-------------------+\n",
      "|    1 year|   High_Annual_Inc|      22917.578125|     0.115623046875|\n",
      "|    1 year|    Low_Annual_Inc| 9597.426470588236|0.12983764705882353|\n",
      "|    1 year|Average_Annual_Inc|           14640.0|0.12170728971962619|\n",
      "| 10+ years|    Low_Annual_Inc| 10570.43663821405|0.13323624425476036|\n",
      "| 10+ years|   High_Annual_Inc|21961.920714684533|0.11426616415410387|\n",
      "| 10+ years|Average_Annual_Inc|15481.786117381489|0.12211326185101579|\n",
      "|   2 years|   High_Annual_Inc|22366.641791044774|0.11751223880597013|\n",
      "|   2 years|    Low_Annual_Inc|  9821.22641509434| 0.1350551886792453|\n",
      "|   2 years|Average_Annual_Inc|14830.043859649122|0.11936077694235592|\n",
      "|   3 years|    Low_Annual_Inc| 10104.77207977208| 0.1309230769230769|\n",
      "|   3 years|Average_Annual_Inc|15249.461538461539| 0.1271246153846154|\n",
      "|   3 years|   High_Annual_Inc|21755.420054200542|0.11606964769647696|\n",
      "|   4 years|   High_Annual_Inc|20848.084677419356|0.11533024193548384|\n",
      "|   4 years|    Low_Annual_Inc|           10162.5| 0.1368621212121212|\n",
      "|   4 years|Average_Annual_Inc|14624.475890985324|0.11774612159329141|\n",
      "|   5 years|Average_Annual_Inc|15390.277777777777| 0.1242412186379928|\n",
      "|   5 years|    Low_Annual_Inc| 9428.361344537816|0.13598697478991595|\n",
      "|   5 years|   High_Annual_Inc|21617.565055762083|0.11434200743494423|\n",
      "|   6 years|    Low_Annual_Inc| 9992.814371257486|0.12660239520958086|\n",
      "|   6 years|Average_Annual_Inc|15209.134615384615| 0.1249217032967033|\n",
      "+----------+------------------+------------------+-------------------+\n",
      "only showing top 20 rows\n",
      "\n"
     ]
    }
   ],
   "source": [
    "\n",
    "first_query_sql_res = spark.sql(first_query_Current_emp_length)\n",
    "first_query_sql_res.show()"
   ]
  },
  {
   "cell_type": "markdown",
   "metadata": {},
   "source": [
    "1. 1 First Query : using Spark Functions"
   ]
  },
  {
   "cell_type": "markdown",
   "metadata": {},
   "source": [
    "For `loan_status` = `Default`"
   ]
  },
  {
   "cell_type": "code",
   "execution_count": 72,
   "metadata": {},
   "outputs": [
    {
     "name": "stdout",
     "output_type": "stream",
     "text": [
      "+----------+---------------+---------------+------------+\n",
      "|emp_length|   income_range|avg_loan_amount|avg_int_rate|\n",
      "+----------+---------------+---------------+------------+\n",
      "|   3 years|High_Annual_Inc|        35000.0|      0.1344|\n",
      "+----------+---------------+---------------+------------+\n",
      "\n"
     ]
    }
   ],
   "source": [
    "fintect_df_income_ranges = fintech_df.withColumn(\n",
    "    \"income_range\", fn.when(fn.col(\"annual_inc\")<47000 , \"Low_Annual_Inc\")\\\n",
    "    .when((fn.col(\"annual_inc\")>= 47000)&(fn.col(\"annual_inc\")<=95000),\"Average_Annual_Inc\").otherwise(\"High_Annual_Inc\")\n",
    ")\n",
    "\n",
    "Default_filtered_df = fintect_df_income_ranges.filter(fn.col(\"loan_status\")==\"Default\")\n",
    "first_query_spark = (Default_filtered_df.groupBy(\"emp_length\",\"income_range\")\\\n",
    "                     .agg(fn.avg(\"loan_amount\").alias(\"avg_loan_amount\"),fn.avg(\"int_rate\").alias(\"avg_int_rate\"))\\\n",
    "                .orderBy(\"emp_length\") )\n",
    "\n",
    "first_query_spark.show()"
   ]
  },
  {
   "cell_type": "markdown",
   "metadata": {},
   "source": [
    "For `loan_status` = `Current`"
   ]
  },
  {
   "cell_type": "code",
   "execution_count": 73,
   "metadata": {},
   "outputs": [
    {
     "name": "stdout",
     "output_type": "stream",
     "text": [
      "+----------+------------------+------------------+-------------------+\n",
      "|emp_length|      income_range|   avg_loan_amount|       avg_int_rate|\n",
      "+----------+------------------+------------------+-------------------+\n",
      "|    1 year|   High_Annual_Inc|      22917.578125|     0.115623046875|\n",
      "|    1 year|    Low_Annual_Inc| 9597.426470588236|0.12983764705882353|\n",
      "|    1 year|Average_Annual_Inc|           14640.0|0.12170728971962619|\n",
      "| 10+ years|   High_Annual_Inc|21961.920714684533|0.11426616415410387|\n",
      "| 10+ years|Average_Annual_Inc|15481.786117381489|0.12211326185101579|\n",
      "| 10+ years|    Low_Annual_Inc| 10570.43663821405|0.13323624425476036|\n",
      "|   2 years|Average_Annual_Inc|14830.043859649122|0.11936077694235592|\n",
      "|   2 years|   High_Annual_Inc|22366.641791044774|0.11751223880597013|\n",
      "|   2 years|    Low_Annual_Inc|  9821.22641509434| 0.1350551886792453|\n",
      "|   3 years|Average_Annual_Inc|15249.461538461539| 0.1271246153846154|\n",
      "|   3 years|    Low_Annual_Inc| 10104.77207977208| 0.1309230769230769|\n",
      "|   3 years|   High_Annual_Inc|21755.420054200542|0.11606964769647696|\n",
      "|   4 years|Average_Annual_Inc|14624.475890985324|0.11774612159329141|\n",
      "|   4 years|    Low_Annual_Inc|           10162.5| 0.1368621212121212|\n",
      "|   4 years|   High_Annual_Inc|20848.084677419356|0.11533024193548384|\n",
      "|   5 years|   High_Annual_Inc|21617.565055762083|0.11434200743494423|\n",
      "|   5 years|Average_Annual_Inc|15390.277777777777| 0.1242412186379928|\n",
      "|   5 years|    Low_Annual_Inc| 9428.361344537816|0.13598697478991595|\n",
      "|   6 years|   High_Annual_Inc|           22005.0| 0.1132308108108108|\n",
      "|   6 years|Average_Annual_Inc|15209.134615384615| 0.1249217032967033|\n",
      "+----------+------------------+------------------+-------------------+\n",
      "only showing top 20 rows\n",
      "\n"
     ]
    }
   ],
   "source": [
    "fintect_df_income_ranges = fintech_df.withColumn(\n",
    "    \"income_range\", fn.when(fn.col(\"annual_inc\")<47000 , \"Low_Annual_Inc\")\\\n",
    "    .when((fn.col(\"annual_inc\")>= 47000)&(fn.col(\"annual_inc\")<=95000),\"Average_Annual_Inc\").otherwise(\"High_Annual_Inc\")\n",
    ")\n",
    "\n",
    "Default_filtered_df = fintect_df_income_ranges.filter(fn.col(\"loan_status\")==\"Current\")\n",
    "first_query_spark = (Default_filtered_df.groupBy(\"emp_length\",\"income_range\")\\\n",
    "                     .agg(fn.avg(\"loan_amount\").alias(\"avg_loan_amount\"),fn.avg(\"int_rate\").alias(\"avg_int_rate\"))\\\n",
    "                .orderBy(\"emp_length\") )\n",
    "\n",
    "first_query_spark.show()"
   ]
  },
  {
   "cell_type": "code",
   "execution_count": 74,
   "metadata": {},
   "outputs": [
    {
     "name": "stdout",
     "output_type": "stream",
     "text": [
      "+------------------+------------------+------------------+-------------------+\n",
      "|emp_length_numeric|      income_range|   avg_loan_amount|       avg_int_rate|\n",
      "+------------------+------------------+------------------+-------------------+\n",
      "|               0.5|    Low_Annual_Inc| 10944.29906542056| 0.1284026168224299|\n",
      "|               0.5|Average_Annual_Inc|15517.972027972028|0.11866503496503494|\n",
      "|               0.5|   High_Annual_Inc|23262.123115577888|0.11073944723618089|\n",
      "|               1.0|   High_Annual_Inc|      22917.578125|     0.115623046875|\n",
      "|               1.0|Average_Annual_Inc|           14640.0|0.12170728971962619|\n",
      "|               1.0|    Low_Annual_Inc| 9597.426470588236|0.12983764705882353|\n",
      "|               2.0|Average_Annual_Inc|14830.043859649122|0.11936077694235592|\n",
      "|               2.0|   High_Annual_Inc|22366.641791044774|0.11751223880597013|\n",
      "|               2.0|    Low_Annual_Inc|  9821.22641509434| 0.1350551886792453|\n",
      "|               3.0|   High_Annual_Inc|21755.420054200542|0.11606964769647696|\n",
      "|               3.0|    Low_Annual_Inc| 10104.77207977208| 0.1309230769230769|\n",
      "|               3.0|Average_Annual_Inc|15249.461538461539| 0.1271246153846154|\n",
      "|               4.0|Average_Annual_Inc|14624.475890985324|0.11774612159329141|\n",
      "|               4.0|    Low_Annual_Inc|           10162.5| 0.1368621212121212|\n",
      "|               4.0|   High_Annual_Inc|20848.084677419356|0.11533024193548384|\n",
      "|               5.0|   High_Annual_Inc|21617.565055762083|0.11434200743494423|\n",
      "|               5.0|    Low_Annual_Inc| 9428.361344537816|0.13598697478991595|\n",
      "|               5.0|Average_Annual_Inc|15390.277777777777| 0.1242412186379928|\n",
      "|               6.0|   High_Annual_Inc|           22005.0| 0.1132308108108108|\n",
      "|               6.0|    Low_Annual_Inc| 9992.814371257486|0.12660239520958086|\n",
      "+------------------+------------------+------------------+-------------------+\n",
      "only showing top 20 rows\n",
      "\n"
     ]
    }
   ],
   "source": [
    "fintech_df_first_query = fintech_df.withColumn(\n",
    "    \"income_range\", fn.when(fn.col(\"annual_inc\")<47000 , \"Low_Annual_Inc\")\\\n",
    "    .when((fn.col(\"annual_inc\")>= 47000)&(fn.col(\"annual_inc\")<=95000),\"Average_Annual_Inc\").otherwise(\"High_Annual_Inc\")\n",
    ")\n",
    "\n",
    "Default_filtered_df = fintech_df_first_query.filter(fn.col(\"loan_status\")==\"Current\")\n",
    "first_query_spark_df = (Default_filtered_df.groupBy(\"emp_length_numeric\",\"income_range\")\\\n",
    "                     .agg(fn.avg(\"loan_amount\").alias(\"avg_loan_amount\"),fn.avg(\"int_rate\").alias(\"avg_int_rate\"))\\\n",
    "                .orderBy(\"emp_length_numeric\") )\n",
    "\n",
    "first_query_spark_df.show()"
   ]
  },
  {
   "cell_type": "markdown",
   "metadata": {},
   "source": [
    "2. 1 Second Query : using SQL and Spark "
   ]
  },
  {
   "cell_type": "code",
   "execution_count": 75,
   "metadata": {},
   "outputs": [],
   "source": [
    "second_query = \"\"\" SELECT grade AS loan_grade, AVG(loan_amount- funded_amount ) AS average_difference\n",
    "                   FROM fintect_df_sql_table \n",
    "                   GROUP BY grade \n",
    "                   ORDER BY average_difference DESC \"\"\""
   ]
  },
  {
   "cell_type": "code",
   "execution_count": 76,
   "metadata": {},
   "outputs": [
    {
     "name": "stdout",
     "output_type": "stream",
     "text": [
      "+----------+------------------+\n",
      "|loan_grade|average_difference|\n",
      "+----------+------------------+\n",
      "|        29|               0.0|\n",
      "|        26|               0.0|\n",
      "|        19|               0.0|\n",
      "|        22|               0.0|\n",
      "|         7|               0.0|\n",
      "|        34|               0.0|\n",
      "|        32|               0.0|\n",
      "|        31|               0.0|\n",
      "|        25|               0.0|\n",
      "|         6|               0.0|\n",
      "|         9|               0.0|\n",
      "|        27|               0.0|\n",
      "|        17|               0.0|\n",
      "|        28|               0.0|\n",
      "|        33|               0.0|\n",
      "|         5|               0.0|\n",
      "|         1|               0.0|\n",
      "|        10|               0.0|\n",
      "|         3|               0.0|\n",
      "|        12|               0.0|\n",
      "|         8|               0.0|\n",
      "|        11|               0.0|\n",
      "|        35|               0.0|\n",
      "|         2|               0.0|\n",
      "|         4|               0.0|\n",
      "|        13|               0.0|\n",
      "|        18|               0.0|\n",
      "|        14|               0.0|\n",
      "|        21|               0.0|\n",
      "|        15|               0.0|\n",
      "|        30|               0.0|\n",
      "|        23|               0.0|\n",
      "|        20|               0.0|\n",
      "|        16|               0.0|\n",
      "|        24|               0.0|\n",
      "+----------+------------------+\n",
      "\n"
     ]
    }
   ],
   "source": [
    "second_query_sql_res = spark.sql(second_query)\n",
    "second_query_sql_res.show(35)"
   ]
  },
  {
   "cell_type": "markdown",
   "metadata": {},
   "source": [
    "2. 2 Second Query : using Spark Functions"
   ]
  },
  {
   "cell_type": "code",
   "execution_count": 77,
   "metadata": {},
   "outputs": [
    {
     "name": "stdout",
     "output_type": "stream",
     "text": [
      "+-----+------------------+\n",
      "|grade|average_difference|\n",
      "+-----+------------------+\n",
      "|   29|               0.0|\n",
      "|   26|               0.0|\n",
      "|   19|               0.0|\n",
      "|   22|               0.0|\n",
      "|    7|               0.0|\n",
      "|   34|               0.0|\n",
      "|   32|               0.0|\n",
      "|   31|               0.0|\n",
      "|   25|               0.0|\n",
      "|    6|               0.0|\n",
      "|    9|               0.0|\n",
      "|   27|               0.0|\n",
      "|   17|               0.0|\n",
      "|   28|               0.0|\n",
      "|   33|               0.0|\n",
      "|    5|               0.0|\n",
      "|    1|               0.0|\n",
      "|   10|               0.0|\n",
      "|    3|               0.0|\n",
      "|   12|               0.0|\n",
      "+-----+------------------+\n",
      "only showing top 20 rows\n",
      "\n"
     ]
    }
   ],
   "source": [
    "second_query_spark_df = (fintech_df.groupBy(\"grade\")\\\n",
    "                      .agg(fn.avg(fn.col(\"loan_amount\")-fn.col(\"funded_amount\")).alias(\"average_difference\"))\\\n",
    "                        .orderBy(fn.col(\"average_difference\").desc()))\n",
    "\n",
    "second_query_spark_df.show()"
   ]
  },
  {
   "cell_type": "markdown",
   "metadata": {},
   "source": [
    "3. 1 Third Query : using SQL and Spark"
   ]
  },
  {
   "cell_type": "markdown",
   "metadata": {},
   "source": [
    "Here , I have ordered the query by `addr_state` in order to give better visualization for total loan amount for loans with `Verified` and `Not Verified` `verification_status` accros each `addr_state`"
   ]
  },
  {
   "cell_type": "code",
   "execution_count": 78,
   "metadata": {},
   "outputs": [],
   "source": [
    "third_query = \"\"\" SELECT  addr_state,verification_status,SUM(loan_amount) AS total_loan_amount\n",
    "                  FROM fintect_df_sql_table \n",
    "                  WHERE verification_status = 'Verified' OR verification_status = 'Not Verified'\n",
    "                  GROUP BY addr_state,verification_status\n",
    "                  ORDER BY  addr_state    \"\"\"  \n",
    " "
   ]
  },
  {
   "cell_type": "code",
   "execution_count": 79,
   "metadata": {},
   "outputs": [
    {
     "name": "stdout",
     "output_type": "stream",
     "text": [
      "+----------+-------------------+-----------------+\n",
      "|addr_state|verification_status|total_loan_amount|\n",
      "+----------+-------------------+-----------------+\n",
      "|        AK|       Not Verified|         269450.0|\n",
      "|        AK|           Verified|         333925.0|\n",
      "|        AL|       Not Verified|        1241900.0|\n",
      "|        AL|           Verified|        1340700.0|\n",
      "|        AR|       Not Verified|         717025.0|\n",
      "|        AR|           Verified|         747625.0|\n",
      "|        AZ|       Not Verified|        2890450.0|\n",
      "|        AZ|           Verified|        2731625.0|\n",
      "|        CA|       Not Verified|      1.8032175E7|\n",
      "|        CA|           Verified|      1.5609625E7|\n",
      "|        CO|       Not Verified|        2740950.0|\n",
      "|        CO|           Verified|        2434350.0|\n",
      "|        CT|       Not Verified|        1915300.0|\n",
      "|        CT|           Verified|        1704100.0|\n",
      "|        DC|           Verified|         452000.0|\n",
      "|        DC|       Not Verified|         228000.0|\n",
      "|        DE|       Not Verified|         487425.0|\n",
      "|        DE|           Verified|         238350.0|\n",
      "|        FL|       Not Verified|         1.0156E7|\n",
      "|        FL|           Verified|        7021550.0|\n",
      "|        GA|           Verified|        3722375.0|\n",
      "|        GA|       Not Verified|        4502200.0|\n",
      "|        HI|           Verified|         665725.0|\n",
      "|        HI|       Not Verified|         529125.0|\n",
      "|        ID|           Verified|         331925.0|\n",
      "|        ID|       Not Verified|         248275.0|\n",
      "|        IL|       Not Verified|        5246750.0|\n",
      "|        IL|           Verified|        5338725.0|\n",
      "|        IN|       Not Verified|        2044500.0|\n",
      "|        IN|           Verified|        1763750.0|\n",
      "|        KS|           Verified|        1058775.0|\n",
      "|        KS|       Not Verified|        1175175.0|\n",
      "|        KY|           Verified|        1067350.0|\n",
      "|        KY|       Not Verified|        1018125.0|\n",
      "|        LA|           Verified|        1502875.0|\n",
      "|        LA|       Not Verified|        1273725.0|\n",
      "|        MA|           Verified|        2431950.0|\n",
      "|        MA|       Not Verified|        3351325.0|\n",
      "|        MD|       Not Verified|        3234400.0|\n",
      "|        MD|           Verified|        3150150.0|\n",
      "|        ME|           Verified|         271900.0|\n",
      "|        ME|       Not Verified|         366925.0|\n",
      "|        MI|       Not Verified|        3367450.0|\n",
      "|        MI|           Verified|        2916725.0|\n",
      "|        MN|       Not Verified|        2189950.0|\n",
      "|        MN|           Verified|        2162925.0|\n",
      "|        MO|       Not Verified|        2074475.0|\n",
      "|        MO|           Verified|        2065525.0|\n",
      "|        MS|       Not Verified|         600850.0|\n",
      "|        MS|           Verified|         830025.0|\n",
      "+----------+-------------------+-----------------+\n",
      "only showing top 50 rows\n",
      "\n"
     ]
    }
   ],
   "source": [
    "third_query_sql_res = spark.sql(third_query)\n",
    "third_query_sql_res.show(50)"
   ]
  },
  {
   "cell_type": "markdown",
   "metadata": {},
   "source": [
    "3. 2 Third Query : using Spark Functions"
   ]
  },
  {
   "cell_type": "code",
   "execution_count": 80,
   "metadata": {},
   "outputs": [
    {
     "name": "stdout",
     "output_type": "stream",
     "text": [
      "+----------+-------------------+-----------------+\n",
      "|addr_state|verification_status|total_loan_amount|\n",
      "+----------+-------------------+-----------------+\n",
      "|        AK|       Not Verified|         269450.0|\n",
      "|        AK|           Verified|         333925.0|\n",
      "|        AL|       Not Verified|        1241900.0|\n",
      "|        AL|           Verified|        1340700.0|\n",
      "|        AR|       Not Verified|         717025.0|\n",
      "|        AR|           Verified|         747625.0|\n",
      "|        AZ|       Not Verified|        2890450.0|\n",
      "|        AZ|           Verified|        2731625.0|\n",
      "|        CA|       Not Verified|      1.8032175E7|\n",
      "|        CA|           Verified|      1.5609625E7|\n",
      "|        CO|       Not Verified|        2740950.0|\n",
      "|        CO|           Verified|        2434350.0|\n",
      "|        CT|       Not Verified|        1915300.0|\n",
      "|        CT|           Verified|        1704100.0|\n",
      "|        DC|           Verified|         452000.0|\n",
      "|        DC|       Not Verified|         228000.0|\n",
      "|        DE|       Not Verified|         487425.0|\n",
      "|        DE|           Verified|         238350.0|\n",
      "|        FL|       Not Verified|         1.0156E7|\n",
      "|        FL|           Verified|        7021550.0|\n",
      "+----------+-------------------+-----------------+\n",
      "only showing top 20 rows\n",
      "\n"
     ]
    }
   ],
   "source": [
    "third_query_filtered_df = fintech_df.filter((fn.col(\"verification_status\") ==\"Verified\")|(fn.col(\"verification_status\")== \"Not Verified\"))\n",
    "third_query_spark_df= (third_query_filtered_df.groupBy(\"addr_state\",\"verification_status\")\\\n",
    "                       .agg(fn.sum(\"loan_amount\").alias(\"total_loan_amount\"))\\\n",
    "                        .orderBy(\"addr_state\"))\n",
    "third_query_spark_df.show()"
   ]
  },
  {
   "cell_type": "markdown",
   "metadata": {},
   "source": [
    "4. 1 Fourth Query : using SQL and Spark"
   ]
  },
  {
   "cell_type": "markdown",
   "metadata": {},
   "source": [
    "Here also i ordered by `avg_time_gap_days` in order to give better visualization for the query "
   ]
  },
  {
   "cell_type": "markdown",
   "metadata": {},
   "source": [
    "The Spark SQL datediff() function is used to get the date difference between two dates in terms of DAYS"
   ]
  },
  {
   "cell_type": "code",
   "execution_count": 81,
   "metadata": {},
   "outputs": [],
   "source": [
    "fourth_query = \"\"\"SELECT grade,AVG(DATEDIFF(issue_date, prev_issue_date_from_same_grade)) AS avg_time_gap_days\n",
    "                  FROM fintect_df_sql_table\n",
    "                  WHERE prev_issue_date_from_same_grade IS NOT NULL\n",
    "                  GROUP BY grade\n",
    "                  ORDER BY  avg_time_gap_days  DESC\n",
    "                \"\"\""
   ]
  },
  {
   "cell_type": "code",
   "execution_count": 82,
   "metadata": {},
   "outputs": [
    {
     "name": "stdout",
     "output_type": "stream",
     "text": [
      "+-----+------------------+\n",
      "|grade| avg_time_gap_days|\n",
      "+-----+------------------+\n",
      "|   32| 83.22727272727273|\n",
      "|   33| 80.64285714285714|\n",
      "|   34|              76.3|\n",
      "|   31|             75.68|\n",
      "|   35| 62.03333333333333|\n",
      "|   30|30.095890410958905|\n",
      "|   27|28.785714285714285|\n",
      "|   28| 26.46987951807229|\n",
      "|   26| 25.72289156626506|\n",
      "|   29|25.363636363636363|\n",
      "|   25| 9.488188976377952|\n",
      "|   22| 9.366533864541832|\n",
      "|   23| 8.838345864661655|\n",
      "|   24| 7.877483443708609|\n",
      "|   21|              7.75|\n",
      "|   17|3.6932599724896837|\n",
      "|   20|3.5515873015873014|\n",
      "|   16|3.4921052631578946|\n",
      "|   19|3.4512353706111836|\n",
      "|   18|3.3467843631778056|\n",
      "|    2|2.3824057450628366|\n",
      "|    4| 2.363556338028169|\n",
      "|    3|2.3118466898954706|\n",
      "|    1|2.2645051194539247|\n",
      "|    5|2.2548853016142734|\n",
      "|   14|1.8290833907649897|\n",
      "|   11|1.7560497056899935|\n",
      "|    7|1.7333763718528084|\n",
      "|   15| 1.731245923026745|\n",
      "|   13|1.7311411992263057|\n",
      "|    6| 1.724470134874759|\n",
      "|    9|1.6961465571699306|\n",
      "|   12|1.6950904392764858|\n",
      "|    8|1.6462293071735132|\n",
      "|   10|1.6223564954682779|\n",
      "+-----+------------------+\n",
      "\n"
     ]
    }
   ],
   "source": [
    "fourth_query_sql_res = spark.sql(fourth_query)\n",
    "fourth_query_sql_res.show(50)"
   ]
  },
  {
   "cell_type": "markdown",
   "metadata": {},
   "source": [
    "4. 2 Fourth Query : using Spark Functions"
   ]
  },
  {
   "cell_type": "code",
   "execution_count": 83,
   "metadata": {},
   "outputs": [
    {
     "name": "stdout",
     "output_type": "stream",
     "text": [
      "+-----+------------------+\n",
      "|grade| avg_time_gap_days|\n",
      "+-----+------------------+\n",
      "|   32| 83.22727272727273|\n",
      "|   33| 80.64285714285714|\n",
      "|   34|              76.3|\n",
      "|   31|             75.68|\n",
      "|   35| 62.03333333333333|\n",
      "|   30|30.095890410958905|\n",
      "|   27|28.785714285714285|\n",
      "|   28| 26.46987951807229|\n",
      "|   26| 25.72289156626506|\n",
      "|   29|25.363636363636363|\n",
      "|   25| 9.488188976377952|\n",
      "|   22| 9.366533864541832|\n",
      "|   23| 8.838345864661655|\n",
      "|   24| 7.877483443708609|\n",
      "|   21|              7.75|\n",
      "|   17|3.6932599724896837|\n",
      "|   20|3.5515873015873014|\n",
      "|   16|3.4921052631578946|\n",
      "|   19|3.4512353706111836|\n",
      "|   18|3.3467843631778056|\n",
      "+-----+------------------+\n",
      "only showing top 20 rows\n",
      "\n"
     ]
    }
   ],
   "source": [
    "fourth_query_filtered_df = fintech_df.filter(fn.col(\"prev_issue_date_from_same_grade\").isNotNull())\n",
    "fourth_query_spark_df =(fourth_query_filtered_df.groupBy(\"grade\").agg(fn.avg(fn.datediff(\"issue_date\",\"prev_issue_date_from_same_grade\")).alias(\"avg_time_gap_days\"))\\\n",
    "                        .orderBy(fn.col(\"avg_time_gap_days\").desc()))\n",
    "\n",
    "fourth_query_spark_df.show()"
   ]
  },
  {
   "cell_type": "markdown",
   "metadata": {},
   "source": [
    "5. 1 Fifth Query :using SQL and Spark"
   ]
  },
  {
   "cell_type": "markdown",
   "metadata": {},
   "source": [
    "Here also i ordered by `avg_diff_loan_amount` in order to give better visualization for the query "
   ]
  },
  {
   "cell_type": "code",
   "execution_count": 84,
   "metadata": {},
   "outputs": [],
   "source": [
    "fifth_query = \"\"\"SELECT grade,state,AVG(ABS(loan_amount- prev_loan_amount_from_same_state_grade)) AS avg_diff_loan_amount\n",
    "                FROM fintect_df_sql_table\n",
    "                WHERE prev_loan_amount_from_same_state_grade IS NOT NULL\n",
    "                GROUP BY grade ,state\n",
    "                ORDER BY avg_diff_loan_amount DESC  \n",
    "           \"\"\""
   ]
  },
  {
   "cell_type": "code",
   "execution_count": 85,
   "metadata": {},
   "outputs": [
    {
     "name": "stdout",
     "output_type": "stream",
     "text": [
      "+-----+-----+--------------------+\n",
      "|grade|state|avg_diff_loan_amount|\n",
      "+-----+-----+--------------------+\n",
      "|    8|   ID|             34800.0|\n",
      "|   29|   AL|             31800.0|\n",
      "|    4|   WY|             30050.0|\n",
      "|    5|   SD|             29000.0|\n",
      "|   34|   FL|             28400.0|\n",
      "|   17|   VT|             27375.0|\n",
      "|   24|   RI|             27100.0|\n",
      "|   29|   ND|             26225.0|\n",
      "|   21|   MA|             25925.0|\n",
      "|   22|   CO|             25800.0|\n",
      "|   19|   WY|             25400.0|\n",
      "|   21|   AR|             25325.0|\n",
      "|   27|   MN|             24175.0|\n",
      "|   33|   MD|             24075.0|\n",
      "|    9|   AK|             24062.5|\n",
      "|   30|   NM|             23800.0|\n",
      "|    1|   WY|             23600.0|\n",
      "|   16|   VT|             23500.0|\n",
      "|    1|   ID|             23000.0|\n",
      "|   23|   NV|             23000.0|\n",
      "+-----+-----+--------------------+\n",
      "only showing top 20 rows\n",
      "\n"
     ]
    }
   ],
   "source": [
    "fifth_query_sql_res = spark.sql(fifth_query)\n",
    "fifth_query_sql_res.show()"
   ]
  },
  {
   "cell_type": "markdown",
   "metadata": {},
   "source": [
    "5. 2 Fifth Query :using Spark Functions"
   ]
  },
  {
   "cell_type": "code",
   "execution_count": 86,
   "metadata": {},
   "outputs": [
    {
     "name": "stdout",
     "output_type": "stream",
     "text": [
      "+-----+-----+--------------------+\n",
      "|grade|state|avg_diff_loan_amount|\n",
      "+-----+-----+--------------------+\n",
      "|    8|   ID|             34800.0|\n",
      "|   29|   AL|             31800.0|\n",
      "|    4|   WY|             30050.0|\n",
      "|    5|   SD|             29000.0|\n",
      "|   34|   FL|             28400.0|\n",
      "|   17|   VT|             27375.0|\n",
      "|   24|   RI|             27100.0|\n",
      "|   29|   ND|             26225.0|\n",
      "|   21|   MA|             25925.0|\n",
      "|   22|   CO|             25800.0|\n",
      "|   19|   WY|             25400.0|\n",
      "|   21|   AR|             25325.0|\n",
      "|   27|   MN|             24175.0|\n",
      "|   33|   MD|             24075.0|\n",
      "|    9|   AK|             24062.5|\n",
      "|   30|   NM|             23800.0|\n",
      "|    1|   WY|             23600.0|\n",
      "|   16|   VT|             23500.0|\n",
      "|    1|   ID|             23000.0|\n",
      "|   23|   NV|             23000.0|\n",
      "+-----+-----+--------------------+\n",
      "only showing top 20 rows\n",
      "\n"
     ]
    }
   ],
   "source": [
    "fifth_query_filtered_df = fintech_df.filter(fn.col(\"prev_loan_amount_from_same_state_grade\").isNotNull())\n",
    "fifth_query_spark_df =(fifth_query_filtered_df.groupBy(\"grade\",\"state\").agg(fn.avg(fn.abs(fn.col(\"loan_amount\")-fn.col(\"prev_loan_amount_from_same_state_grade\"))).alias(\"avg_diff_loan_amount\"))\\\n",
    "                        .orderBy(fn.col(\"avg_diff_loan_amount\").desc()))\n",
    "fifth_query_spark_df.show()"
   ]
  },
  {
   "cell_type": "markdown",
   "metadata": {},
   "source": [
    "### Dropping encoded columns before saving Dataframes into Paqruets"
   ]
  },
  {
   "cell_type": "code",
   "execution_count": 87,
   "metadata": {},
   "outputs": [],
   "source": [
    "fintech_df = fintech_df.drop(fn.col(\"grade\"),fn.col(\"emp_length\"),fn.col(\"home_ownership\"),fn.col(\"type\"),fn.col(\"verification_status\"),fn.col(\"purpose\"),fn.col(\"state\"))"
   ]
  },
  {
   "cell_type": "code",
   "execution_count": 88,
   "metadata": {},
   "outputs": [
    {
     "data": {
      "text/plain": [
       "['customer_id',\n",
       " 'emp_title',\n",
       " 'annual_inc',\n",
       " 'annual_inc_joint',\n",
       " 'zip_code',\n",
       " 'addr_state',\n",
       " 'avg_cur_bal',\n",
       " 'tot_cur_bal',\n",
       " 'loan_id',\n",
       " 'loan_status',\n",
       " 'loan_amount',\n",
       " 'funded_amount',\n",
       " 'term',\n",
       " 'int_rate',\n",
       " 'issue_date',\n",
       " 'pymnt_plan',\n",
       " 'description',\n",
       " 'emp_length_numeric',\n",
       " 'home_ownership_MORTGAGE',\n",
       " 'home_ownership_RENT',\n",
       " 'home_ownership_OWN',\n",
       " 'home_ownership_ANY',\n",
       " 'home_ownership_OTHER',\n",
       " 'verification_status_Source Verified',\n",
       " 'verification_status_Not Verified',\n",
       " 'verification_status_Verified',\n",
       " 'type_individual',\n",
       " 'type_joint',\n",
       " 'type_direct_pay',\n",
       " 'state_label_encoding',\n",
       " 'purpose_label_encoding',\n",
       " 'letter_grade',\n",
       " 'prev_issue_date_from_same_grade',\n",
       " 'prev_loan_amount_from_same_grade',\n",
       " 'prev_loan_date_from_same_state_grade',\n",
       " 'prev_loan_amount_from_same_state_grade']"
      ]
     },
     "execution_count": 88,
     "metadata": {},
     "output_type": "execute_result"
    }
   ],
   "source": [
    "fintech_df.columns"
   ]
  },
  {
   "cell_type": "code",
   "execution_count": 89,
   "metadata": {},
   "outputs": [
    {
     "name": "stdout",
     "output_type": "stream",
     "text": [
      "+--------------------+--------------------+----------+----------------+--------+----------+-----------+-----------+-------+-----------+-----------+-------------+----------+--------+----------+----------+--------------------+------------------+-----------------------+-------------------+------------------+------------------+--------------------+-----------------------------------+--------------------------------+----------------------------+---------------+----------+---------------+--------------------+----------------------+------------+-------------------------------+--------------------------------+------------------------------------+--------------------------------------+\n",
      "|         customer_id|           emp_title|annual_inc|annual_inc_joint|zip_code|addr_state|avg_cur_bal|tot_cur_bal|loan_id|loan_status|loan_amount|funded_amount|      term|int_rate|issue_date|pymnt_plan|         description|emp_length_numeric|home_ownership_MORTGAGE|home_ownership_RENT|home_ownership_OWN|home_ownership_ANY|home_ownership_OTHER|verification_status_Source Verified|verification_status_Not Verified|verification_status_Verified|type_individual|type_joint|type_direct_pay|state_label_encoding|purpose_label_encoding|letter_grade|prev_issue_date_from_same_grade|prev_loan_amount_from_same_grade|prev_loan_date_from_same_state_grade|prev_loan_amount_from_same_state_grade|\n",
      "+--------------------+--------------------+----------+----------------+--------+----------+-----------+-----------+-------+-----------+-----------+-------------+----------+--------+----------+----------+--------------------+------------------+-----------------------+-------------------+------------------+------------------+--------------------+-----------------------------------+--------------------------------+----------------------------+---------------+----------+---------------+--------------------+----------------------+------------+-------------------------------+--------------------------------+------------------------------------+--------------------------------------+\n",
      "|YidceGI1JWRqSmJiX...|     Finance Manager|   32000.0|             0.0|   999xx|        AK|     1187.0|    11873.0|  72193|Charged Off|     8500.0|       8500.0| 36 months|  0.0818|2015-03-15|     false|  Debt consolidation|               8.0|                    0.0|                1.0|               0.0|               0.0|                 0.0|                                1.0|                             0.0|                         0.0|            1.0|       0.0|            0.0|                44.0|                   0.0|           B|                     2015-03-15|                          8600.0|                                NULL|                                  NULL|\n",
      "|YidceGQ5XHhkNlx4Z...|Human Resource Co...|   56640.0|             0.0|   998xx|        AK|     8633.0|   120855.0| 164448| Fully Paid|    16000.0|      16000.0| 36 months|  0.1153|2015-10-15|     false|  Debt consolidation|               2.0|                    0.0|                1.0|               0.0|               0.0|                 0.0|                                1.0|                             0.0|                         0.0|            1.0|       0.0|            0.0|                44.0|                   0.0|           B|                     2015-10-15|                         10000.0|                          2015-03-15|                                8500.0|\n",
      "|YidceGFlXHhmNFx4Y...|            Security|   52800.0|             0.0|   996xx|        AK|    26697.0|   320369.0|  34772| Fully Paid|     5125.0|       5125.0| 36 months|  0.1064|2015-12-15|     false|  Debt consolidation|               2.0|                    1.0|                0.0|               0.0|               0.0|                 0.0|                                0.0|                             0.0|                         1.0|            1.0|       0.0|            0.0|                44.0|                   0.0|           B|                     2015-12-15|                         27000.0|                          2015-10-15|                               16000.0|\n",
      "|Yic4XHhlZGtceDhmX...|sales and service...|   45000.0|             0.0|   995xx|        AK|     2327.0|    27924.0|  41104| Fully Paid|     6000.0|       6000.0| 36 months|  0.0849|2016-01-16|     false|  Debt consolidation|               3.0|                    0.0|                1.0|               0.0|               0.0|                 0.0|                                1.0|                             0.0|                         0.0|            1.0|       0.0|            0.0|                44.0|                   0.0|           B|                     2016-01-16|                          4800.0|                          2015-12-15|                                5125.0|\n",
      "|YidceGM4O1x4OTZce...|             Teacher|   60000.0|             0.0|   995xx|        AK|     2310.0|    20794.0|  65017|    Current|     8000.0|       8000.0| 36 months|  0.1049|2016-08-16|     false|Credit card refin...|               2.0|                    0.0|                1.0|               0.0|               0.0|                 0.0|                                1.0|                             0.0|                         0.0|            1.0|       0.0|            0.0|                44.0|                   1.0|           B|                     2016-08-16|                          4500.0|                          2016-01-16|                                6000.0|\n",
      "|YidISWJceGQ4XHhiZ...|   Dental hygienist |   38000.0|        200000.0|   997xx|        AK|    34179.0|   546860.0| 203062|    Current|    20425.0|      20425.0| 60 months|  0.1308|2019-06-19|     false|  Debt consolidation|              11.0|                    1.0|                0.0|               0.0|               0.0|                 0.0|                                1.0|                             0.0|                         0.0|            0.0|       1.0|            0.0|                44.0|                   0.0|           B|                     2019-06-19|                         23000.0|                          2016-08-16|                                8000.0|\n",
      "|YidceDEyIlx4YmFce...|             Shoneys|   21000.0|             0.0|   360xx|        AL|     2162.0|    10811.0|  38414| Fully Paid|     5800.0|       5800.0| 36 months|  0.1016|2012-09-12|     false|                Loan|               7.0|                    0.0|                1.0|               0.0|               0.0|                 0.0|                                0.0|                             1.0|                         0.0|            1.0|       0.0|            0.0|                27.0|                   0.0|           B|                     2012-09-12|                         16100.0|                                NULL|                                  NULL|\n",
      "|YidceGM3XHhlYVx4Y...|Southern Controls...|   60000.0|             0.0|   360xx|        AL|     1928.0|     5783.0| 177642| Fully Paid|    18000.0|      18000.0| 36 months|  0.1016|2013-04-13|     false|      Major purchase|              11.0|                    1.0|                0.0|               0.0|               0.0|                 0.0|                                0.0|                             1.0|                         0.0|            1.0|       0.0|            0.0|                27.0|                   4.0|           B|                     2013-04-13|                         15000.0|                          2012-09-12|                                5800.0|\n",
      "|YidceDE4XHhhMFx4M...|Program Budget An...|   74000.0|             0.0|   357xx|        AL|     3310.0|    16551.0|  22882| Fully Paid|     4700.0|       4700.0| 36 months|  0.0967|2014-03-14|     false|  Debt consolidation|               8.0|                    0.0|                1.0|               0.0|               0.0|                 0.0|                                0.0|                             1.0|                         0.0|            1.0|       0.0|            0.0|                27.0|                   0.0|           B|                     2014-03-14|                         12500.0|                          2013-04-13|                               18000.0|\n",
      "|YidceGQ3XHg5Zlx4M...|dental assistant/...|   30000.0|             0.0|   369xx|        AL|      277.0|     5821.0|  43253|Charged Off|     6000.0|       6000.0| 36 months|  0.1153|2015-11-15|     false|  Debt consolidation|               2.0|                    0.0|                0.0|               1.0|               0.0|                 0.0|                                0.0|                             1.0|                         0.0|            1.0|       0.0|            0.0|                27.0|                   0.0|           B|                     2015-11-15|                         25000.0|                          2014-03-14|                                4700.0|\n",
      "|YidceGNjcVx4MDBjX...|Branch banker tea...|   39000.0|             0.0|   357xx|        AL|     5577.0|    27886.0|   3292|    Current|     1800.0|       1800.0| 36 months|  0.1148|2016-01-16|     false|  Debt consolidation|               8.0|                    1.0|                0.0|               0.0|               0.0|                 0.0|                                0.0|                             0.0|                         1.0|            1.0|       0.0|            0.0|                27.0|                   0.0|           B|                     2016-01-16|                          6000.0|                          2015-11-15|                                6000.0|\n",
      "|YidDNVx4OGJceDg4X...|                  RN|   50000.0|             0.0|   359xx|        AL|    14131.0|   141314.0| 120634|    Current|    12000.0|      12000.0| 36 months|  0.1147|2016-02-16|     false|Credit card refin...|               5.0|                    1.0|                0.0|               0.0|               0.0|                 0.0|                                0.0|                             1.0|                         0.0|            1.0|       0.0|            0.0|                27.0|                   1.0|           B|                     2016-02-16|                          7200.0|                          2016-01-16|                                1800.0|\n",
      "|YictO1x4ZTVceDg5X...|   Financial Advisor|  100000.0|             0.0|   365xx|        AL|    16663.0|   383246.0| 187460|    Current|    20000.0|      20000.0| 36 months|  0.0975|2016-04-16|     false|  Debt consolidation|               1.0|                    0.0|                0.0|               1.0|               0.0|                 0.0|                                1.0|                             0.0|                         0.0|            1.0|       0.0|            0.0|                27.0|                   0.0|           B|                     2016-04-16|                          8000.0|                          2016-02-16|                               12000.0|\n",
      "|YidceDFmXHhkOVx4Y...|  Member service rep|   45500.0|             0.0|   356xx|        AL|     4457.0|    44566.0|   3287|    Current|     1800.0|       1800.0| 36 months|  0.1139|2016-11-16|     false|Credit card refin...|              11.0|                    0.0|                0.0|               1.0|               0.0|                 0.0|                                1.0|                             0.0|                         0.0|            1.0|       0.0|            0.0|                27.0|                   1.0|           B|                     2016-11-16|                         33000.0|                          2016-04-16|                               20000.0|\n",
      "|Yid0XHhjNFx4MGJce...|patient care coor...|   35000.0|             0.0|   351xx|        AL|     6531.0|    58781.0|  27139|    Current|     5000.0|       5000.0| 36 months|  0.0824|2016-12-16|     false|Credit card refin...|               4.0|                    0.0|                1.0|               0.0|               0.0|                 0.0|                                1.0|                             0.0|                         0.0|            1.0|       0.0|            0.0|                27.0|                   1.0|           B|                     2016-12-16|                          2750.0|                          2016-11-16|                                1800.0|\n",
      "|YidceGIzIFx4YmFce...|Infrastrucute Eng...|   78000.0|             0.0|   350xx|        AL|    31686.0|   348549.0|  29429| Fully Paid|     5000.0|       5000.0| 36 months|  0.1144|2017-03-17|     false|Credit card refin...|               1.0|                    1.0|                0.0|               0.0|               0.0|                 0.0|                                1.0|                             0.0|                         0.0|            1.0|       0.0|            0.0|                27.0|                   1.0|           B|                     2017-03-17|                         10000.0|                          2016-12-16|                                5000.0|\n",
      "|YidDXHg4Mlx4YWZce...|    Sales associate |   23000.0|             0.0|   357xx|        AL|     7833.0|    23500.0|  28527|    Current|     5000.0|       5000.0| 36 months|  0.1042|2017-07-17|     false|  Debt consolidation|               2.0|                    1.0|                0.0|               0.0|               0.0|                 0.0|                                1.0|                             0.0|                         0.0|            1.0|       0.0|            0.0|                27.0|                   0.0|           B|                     2017-06-17|                         40000.0|                          2017-03-17|                                5000.0|\n",
      "|YidceGU4XHg4Ylx4Z...|       skilled labor|   29000.0|             0.0|   362xx|        AL|      304.0|     1217.0|  15453| Fully Paid|     3600.0|       3600.0| 36 months|  0.1199|2017-08-17|     false|  Debt consolidation|               3.0|                    1.0|                0.0|               0.0|               0.0|                 0.0|                                0.0|                             1.0|                         0.0|            1.0|       0.0|            0.0|                27.0|                   0.0|           B|                     2017-08-17|                         15000.0|                          2017-07-17|                                5000.0|\n",
      "|YiI9XHhkNHRceGRkX...|             Teacher|   97850.0|             0.0|   361xx|        AL|    14218.0|   213265.0| 193626|    Current|    20000.0|      20000.0| 36 months|  0.1298|2019-01-19|     false|  Debt consolidation|               0.5|                    1.0|                0.0|               0.0|               0.0|                 0.0|                                0.0|                             0.0|                         1.0|            1.0|       0.0|            0.0|                27.0|                   0.0|           B|                     2019-01-19|                         12000.0|                          2017-08-17|                                3600.0|\n",
      "|YidceGNkXHg4MFx4O...|             Teacher|   75000.0|        208000.0|   365xx|        AL|    24376.0|   365639.0| 268414|    Current|    40000.0|      40000.0| 60 months|  0.1102|2019-06-19|     false|  Debt consolidation|              11.0|                    1.0|                0.0|               0.0|               0.0|                 0.0|                                1.0|                             0.0|                         0.0|            0.0|       1.0|            0.0|                27.0|                   0.0|           B|                     2019-06-19|                         13000.0|                          2019-01-19|                               20000.0|\n",
      "+--------------------+--------------------+----------+----------------+--------+----------+-----------+-----------+-------+-----------+-----------+-------------+----------+--------+----------+----------+--------------------+------------------+-----------------------+-------------------+------------------+------------------+--------------------+-----------------------------------+--------------------------------+----------------------------+---------------+----------+---------------+--------------------+----------------------+------------+-------------------------------+--------------------------------+------------------------------------+--------------------------------------+\n",
      "only showing top 20 rows\n",
      "\n"
     ]
    }
   ],
   "source": [
    "fintech_df.show()"
   ]
  },
  {
   "cell_type": "markdown",
   "metadata": {},
   "source": [
    "## Part 6: Lookup Table & Saving the dataset"
   ]
  },
  {
   "cell_type": "code",
   "execution_count": 90,
   "metadata": {},
   "outputs": [],
   "source": [
    "fintech_df.coalesce(1).write.parquet(\"/data/temp_fintech_spark_52_24625_clean\", mode=\"overwrite\")\n",
    "parquet_file = [f for f in os.listdir(\"/data/temp_fintech_spark_52_24625_clean\") if f.endswith(\".parquet\")][0]\n",
    "shutil.move(f\"/data/temp_fintech_spark_52_24625_clean/{parquet_file}\", \"/data/fintech_spark_52_24625_clean.parquet\")\n",
    "shutil.rmtree(\"/data/temp_fintech_spark_52_24625_clean\")\n",
    "\n",
    "\n",
    "lookup_table_df.coalesce(1).write.parquet(\"/data/temp_lookup_spark\", mode=\"overwrite\")\n",
    "parquet_file = [f for f in os.listdir(\"/data/temp_lookup_spark\") if f.endswith(\".parquet\")][0]\n",
    "shutil.move(f\"/data/temp_lookup_spark/{parquet_file}\", \"/data/lookup_spark_52_24625.parquet\")\n",
    "shutil.rmtree(\"/data/temp_lookup_spark\") "
   ]
  },
  {
   "cell_type": "code",
   "execution_count": 91,
   "metadata": {},
   "outputs": [],
   "source": [
    "fintech_df_cleaned = spark.read.parquet('/data/fintech_spark_52_24625_clean.parquet')"
   ]
  },
  {
   "cell_type": "code",
   "execution_count": 92,
   "metadata": {},
   "outputs": [
    {
     "name": "stdout",
     "output_type": "stream",
     "text": [
      "+--------------------+--------------------+----------+----------------+--------+----------+-----------+-----------+-------+-----------+-----------+-------------+----------+--------+----------+----------+--------------------+------------------+-----------------------+-------------------+------------------+------------------+--------------------+-----------------------------------+--------------------------------+----------------------------+---------------+----------+---------------+--------------------+----------------------+------------+-------------------------------+--------------------------------+------------------------------------+--------------------------------------+\n",
      "|         customer_id|           emp_title|annual_inc|annual_inc_joint|zip_code|addr_state|avg_cur_bal|tot_cur_bal|loan_id|loan_status|loan_amount|funded_amount|      term|int_rate|issue_date|pymnt_plan|         description|emp_length_numeric|home_ownership_MORTGAGE|home_ownership_RENT|home_ownership_OWN|home_ownership_ANY|home_ownership_OTHER|verification_status_Source Verified|verification_status_Not Verified|verification_status_Verified|type_individual|type_joint|type_direct_pay|state_label_encoding|purpose_label_encoding|letter_grade|prev_issue_date_from_same_grade|prev_loan_amount_from_same_grade|prev_loan_date_from_same_state_grade|prev_loan_amount_from_same_state_grade|\n",
      "+--------------------+--------------------+----------+----------------+--------+----------+-----------+-----------+-------+-----------+-----------+-------------+----------+--------+----------+----------+--------------------+------------------+-----------------------+-------------------+------------------+------------------+--------------------+-----------------------------------+--------------------------------+----------------------------+---------------+----------+---------------+--------------------+----------------------+------------+-------------------------------+--------------------------------+------------------------------------+--------------------------------------+\n",
      "|YidceGI1JWRqSmJiX...|     Finance Manager|   32000.0|             0.0|   999xx|        AK|     1187.0|    11873.0|  72193|Charged Off|     8500.0|       8500.0| 36 months|  0.0818|2015-03-15|     false|  Debt consolidation|               8.0|                    0.0|                1.0|               0.0|               0.0|                 0.0|                                1.0|                             0.0|                         0.0|            1.0|       0.0|            0.0|                44.0|                   0.0|           B|                     2015-03-15|                          8600.0|                                NULL|                                  NULL|\n",
      "|YidceGQ5XHhkNlx4Z...|Human Resource Co...|   56640.0|             0.0|   998xx|        AK|     8633.0|   120855.0| 164448| Fully Paid|    16000.0|      16000.0| 36 months|  0.1153|2015-10-15|     false|  Debt consolidation|               2.0|                    0.0|                1.0|               0.0|               0.0|                 0.0|                                1.0|                             0.0|                         0.0|            1.0|       0.0|            0.0|                44.0|                   0.0|           B|                     2015-10-15|                         10000.0|                          2015-03-15|                                8500.0|\n",
      "|YidceGFlXHhmNFx4Y...|            Security|   52800.0|             0.0|   996xx|        AK|    26697.0|   320369.0|  34772| Fully Paid|     5125.0|       5125.0| 36 months|  0.1064|2015-12-15|     false|  Debt consolidation|               2.0|                    1.0|                0.0|               0.0|               0.0|                 0.0|                                0.0|                             0.0|                         1.0|            1.0|       0.0|            0.0|                44.0|                   0.0|           B|                     2015-12-15|                         27000.0|                          2015-10-15|                               16000.0|\n",
      "|Yic4XHhlZGtceDhmX...|sales and service...|   45000.0|             0.0|   995xx|        AK|     2327.0|    27924.0|  41104| Fully Paid|     6000.0|       6000.0| 36 months|  0.0849|2016-01-16|     false|  Debt consolidation|               3.0|                    0.0|                1.0|               0.0|               0.0|                 0.0|                                1.0|                             0.0|                         0.0|            1.0|       0.0|            0.0|                44.0|                   0.0|           B|                     2016-01-16|                          4800.0|                          2015-12-15|                                5125.0|\n",
      "|YidceGM4O1x4OTZce...|             Teacher|   60000.0|             0.0|   995xx|        AK|     2310.0|    20794.0|  65017|    Current|     8000.0|       8000.0| 36 months|  0.1049|2016-08-16|     false|Credit card refin...|               2.0|                    0.0|                1.0|               0.0|               0.0|                 0.0|                                1.0|                             0.0|                         0.0|            1.0|       0.0|            0.0|                44.0|                   1.0|           B|                     2016-08-16|                          4500.0|                          2016-01-16|                                6000.0|\n",
      "|YidISWJceGQ4XHhiZ...|   Dental hygienist |   38000.0|        200000.0|   997xx|        AK|    34179.0|   546860.0| 203062|    Current|    20425.0|      20425.0| 60 months|  0.1308|2019-06-19|     false|  Debt consolidation|              11.0|                    1.0|                0.0|               0.0|               0.0|                 0.0|                                1.0|                             0.0|                         0.0|            0.0|       1.0|            0.0|                44.0|                   0.0|           B|                     2019-06-19|                         23000.0|                          2016-08-16|                                8000.0|\n",
      "|YidceDEyIlx4YmFce...|             Shoneys|   21000.0|             0.0|   360xx|        AL|     2162.0|    10811.0|  38414| Fully Paid|     5800.0|       5800.0| 36 months|  0.1016|2012-09-12|     false|                Loan|               7.0|                    0.0|                1.0|               0.0|               0.0|                 0.0|                                0.0|                             1.0|                         0.0|            1.0|       0.0|            0.0|                27.0|                   0.0|           B|                     2012-09-12|                         16100.0|                                NULL|                                  NULL|\n",
      "|YidceGM3XHhlYVx4Y...|Southern Controls...|   60000.0|             0.0|   360xx|        AL|     1928.0|     5783.0| 177642| Fully Paid|    18000.0|      18000.0| 36 months|  0.1016|2013-04-13|     false|      Major purchase|              11.0|                    1.0|                0.0|               0.0|               0.0|                 0.0|                                0.0|                             1.0|                         0.0|            1.0|       0.0|            0.0|                27.0|                   4.0|           B|                     2013-04-13|                         15000.0|                          2012-09-12|                                5800.0|\n",
      "|YidceDE4XHhhMFx4M...|Program Budget An...|   74000.0|             0.0|   357xx|        AL|     3310.0|    16551.0|  22882| Fully Paid|     4700.0|       4700.0| 36 months|  0.0967|2014-03-14|     false|  Debt consolidation|               8.0|                    0.0|                1.0|               0.0|               0.0|                 0.0|                                0.0|                             1.0|                         0.0|            1.0|       0.0|            0.0|                27.0|                   0.0|           B|                     2014-03-14|                         12500.0|                          2013-04-13|                               18000.0|\n",
      "|YidceGQ3XHg5Zlx4M...|dental assistant/...|   30000.0|             0.0|   369xx|        AL|      277.0|     5821.0|  43253|Charged Off|     6000.0|       6000.0| 36 months|  0.1153|2015-11-15|     false|  Debt consolidation|               2.0|                    0.0|                0.0|               1.0|               0.0|                 0.0|                                0.0|                             1.0|                         0.0|            1.0|       0.0|            0.0|                27.0|                   0.0|           B|                     2015-11-15|                         25000.0|                          2014-03-14|                                4700.0|\n",
      "|YidceGNjcVx4MDBjX...|Branch banker tea...|   39000.0|             0.0|   357xx|        AL|     5577.0|    27886.0|   3292|    Current|     1800.0|       1800.0| 36 months|  0.1148|2016-01-16|     false|  Debt consolidation|               8.0|                    1.0|                0.0|               0.0|               0.0|                 0.0|                                0.0|                             0.0|                         1.0|            1.0|       0.0|            0.0|                27.0|                   0.0|           B|                     2016-01-16|                          6000.0|                          2015-11-15|                                6000.0|\n",
      "|YidDNVx4OGJceDg4X...|                  RN|   50000.0|             0.0|   359xx|        AL|    14131.0|   141314.0| 120634|    Current|    12000.0|      12000.0| 36 months|  0.1147|2016-02-16|     false|Credit card refin...|               5.0|                    1.0|                0.0|               0.0|               0.0|                 0.0|                                0.0|                             1.0|                         0.0|            1.0|       0.0|            0.0|                27.0|                   1.0|           B|                     2016-02-16|                          7200.0|                          2016-01-16|                                1800.0|\n",
      "|YictO1x4ZTVceDg5X...|   Financial Advisor|  100000.0|             0.0|   365xx|        AL|    16663.0|   383246.0| 187460|    Current|    20000.0|      20000.0| 36 months|  0.0975|2016-04-16|     false|  Debt consolidation|               1.0|                    0.0|                0.0|               1.0|               0.0|                 0.0|                                1.0|                             0.0|                         0.0|            1.0|       0.0|            0.0|                27.0|                   0.0|           B|                     2016-04-16|                          8000.0|                          2016-02-16|                               12000.0|\n",
      "|YidceDFmXHhkOVx4Y...|  Member service rep|   45500.0|             0.0|   356xx|        AL|     4457.0|    44566.0|   3287|    Current|     1800.0|       1800.0| 36 months|  0.1139|2016-11-16|     false|Credit card refin...|              11.0|                    0.0|                0.0|               1.0|               0.0|                 0.0|                                1.0|                             0.0|                         0.0|            1.0|       0.0|            0.0|                27.0|                   1.0|           B|                     2016-11-16|                         33000.0|                          2016-04-16|                               20000.0|\n",
      "|Yid0XHhjNFx4MGJce...|patient care coor...|   35000.0|             0.0|   351xx|        AL|     6531.0|    58781.0|  27139|    Current|     5000.0|       5000.0| 36 months|  0.0824|2016-12-16|     false|Credit card refin...|               4.0|                    0.0|                1.0|               0.0|               0.0|                 0.0|                                1.0|                             0.0|                         0.0|            1.0|       0.0|            0.0|                27.0|                   1.0|           B|                     2016-12-16|                          2750.0|                          2016-11-16|                                1800.0|\n",
      "|YidceGIzIFx4YmFce...|Infrastrucute Eng...|   78000.0|             0.0|   350xx|        AL|    31686.0|   348549.0|  29429| Fully Paid|     5000.0|       5000.0| 36 months|  0.1144|2017-03-17|     false|Credit card refin...|               1.0|                    1.0|                0.0|               0.0|               0.0|                 0.0|                                1.0|                             0.0|                         0.0|            1.0|       0.0|            0.0|                27.0|                   1.0|           B|                     2017-03-17|                         10000.0|                          2016-12-16|                                5000.0|\n",
      "|YidDXHg4Mlx4YWZce...|    Sales associate |   23000.0|             0.0|   357xx|        AL|     7833.0|    23500.0|  28527|    Current|     5000.0|       5000.0| 36 months|  0.1042|2017-07-17|     false|  Debt consolidation|               2.0|                    1.0|                0.0|               0.0|               0.0|                 0.0|                                1.0|                             0.0|                         0.0|            1.0|       0.0|            0.0|                27.0|                   0.0|           B|                     2017-06-17|                         40000.0|                          2017-03-17|                                5000.0|\n",
      "|YidceGU4XHg4Ylx4Z...|       skilled labor|   29000.0|             0.0|   362xx|        AL|      304.0|     1217.0|  15453| Fully Paid|     3600.0|       3600.0| 36 months|  0.1199|2017-08-17|     false|  Debt consolidation|               3.0|                    1.0|                0.0|               0.0|               0.0|                 0.0|                                0.0|                             1.0|                         0.0|            1.0|       0.0|            0.0|                27.0|                   0.0|           B|                     2017-08-17|                         15000.0|                          2017-07-17|                                5000.0|\n",
      "|YiI9XHhkNHRceGRkX...|             Teacher|   97850.0|             0.0|   361xx|        AL|    14218.0|   213265.0| 193626|    Current|    20000.0|      20000.0| 36 months|  0.1298|2019-01-19|     false|  Debt consolidation|               0.5|                    1.0|                0.0|               0.0|               0.0|                 0.0|                                0.0|                             0.0|                         1.0|            1.0|       0.0|            0.0|                27.0|                   0.0|           B|                     2019-01-19|                         12000.0|                          2017-08-17|                                3600.0|\n",
      "|YidceGNkXHg4MFx4O...|             Teacher|   75000.0|        208000.0|   365xx|        AL|    24376.0|   365639.0| 268414|    Current|    40000.0|      40000.0| 60 months|  0.1102|2019-06-19|     false|  Debt consolidation|              11.0|                    1.0|                0.0|               0.0|               0.0|                 0.0|                                1.0|                             0.0|                         0.0|            0.0|       1.0|            0.0|                27.0|                   0.0|           B|                     2019-06-19|                         13000.0|                          2019-01-19|                               20000.0|\n",
      "+--------------------+--------------------+----------+----------------+--------+----------+-----------+-----------+-------+-----------+-----------+-------------+----------+--------+----------+----------+--------------------+------------------+-----------------------+-------------------+------------------+------------------+--------------------+-----------------------------------+--------------------------------+----------------------------+---------------+----------+---------------+--------------------+----------------------+------------+-------------------------------+--------------------------------+------------------------------------+--------------------------------------+\n",
      "only showing top 20 rows\n",
      "\n"
     ]
    }
   ],
   "source": [
    "fintech_df_cleaned.show()"
   ]
  },
  {
   "cell_type": "markdown",
   "metadata": {},
   "source": [
    "## BONUS: Loading to Postgres"
   ]
  },
  {
   "cell_type": "code",
   "execution_count": 93,
   "metadata": {},
   "outputs": [],
   "source": [
    "jdbc_url = \"jdbc:postgresql://pgdatabase:5432/MS3_MET_P1_52_24625\"\n",
    "db_properties = {\n",
    "    \"user\": \"root\",\n",
    "    \"password\": \"root\",\n",
    "    \"driver\": \"org.postgresql.Driver\"\n",
    "}\n",
    "\n"
   ]
  },
  {
   "cell_type": "code",
   "execution_count": 94,
   "metadata": {},
   "outputs": [],
   "source": [
    "def save_parquet_to_db(df,df_name):\n",
    "    df.write.format(\"jdbc\").option(\"url\", jdbc_url).option(\"dbtable\", df_name) \\\n",
    "        .option(\"user\", db_properties[\"user\"]) \\\n",
    "        .option(\"password\", db_properties[\"password\"]) \\\n",
    "        .option(\"driver\", db_properties[\"driver\"]) \\\n",
    "        .mode(\"overwrite\") \\\n",
    "        .save()\n",
    "    print(f'{df_name} successfully saved to postgresDB !')"
   ]
  },
  {
   "cell_type": "code",
   "execution_count": 95,
   "metadata": {},
   "outputs": [],
   "source": [
    "fintech_df_cleaned = spark.read.parquet('/data/fintech_spark_52_24625_clean.parquet')\n",
    "lookup_table_saved = spark.read.parquet('/data/lookup_spark_52_24625.parquet')"
   ]
  },
  {
   "cell_type": "code",
   "execution_count": 96,
   "metadata": {},
   "outputs": [
    {
     "name": "stdout",
     "output_type": "stream",
     "text": [
      "fintech_spark_52_24625_clean successfully saved to postgresDB !\n",
      "lookup_spark_52_24625 successfully saved to postgresDB !\n"
     ]
    }
   ],
   "source": [
    "save_parquet_to_db(fintech_df_cleaned,\"fintech_spark_52_24625_clean\")\n",
    "save_parquet_to_db(lookup_table_saved,\"lookup_spark_52_24625\")"
   ]
  }
 ],
 "metadata": {
  "kernelspec": {
   "display_name": "Python 3 (ipykernel)",
   "language": "python",
   "name": "python3"
  },
  "language_info": {
   "codemirror_mode": {
    "name": "ipython",
    "version": 3
   },
   "file_extension": ".py",
   "mimetype": "text/x-python",
   "name": "python",
   "nbconvert_exporter": "python",
   "pygments_lexer": "ipython3",
   "version": "3.11.6"
  }
 },
 "nbformat": 4,
 "nbformat_minor": 2
}
